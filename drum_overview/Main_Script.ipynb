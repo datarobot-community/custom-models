{
 "cells": [
  {
   "cell_type": "markdown",
   "metadata": {},
   "source": [
    "<a href=\"https://colab.research.google.com/github/datarobot-community/custom-models/blob/master/drum_overview/Main_Script.ipynb\" target=\"_parent\"><img src=\"https://colab.research.google.com/assets/colab-badge.svg\" alt=\"Open In Colab\"/></a>"
   ]
  },
  {
   "cell_type": "markdown",
   "metadata": {},
   "source": [
    "## Using MLOps DRUM to test your custom models\n",
    "**Author**: Tim Whittaker\n",
    "\n",
    "#### Scope\n",
    "We'll get our hands dirty by:\n",
    "\n",
    "* Building a simple regression model using Scikit\n",
    "* Using DRUM for Batch Scoring\n",
    "* Using DRUM to get a REST API endpoint\n",
    "* Show a simple example app connected to the REST API\n",
    "* H2O, Keras, XGBoost, and DataRobot\n",
    "* Add a DataRobot remote agent if you are interested in further model monitoring\n",
    "\n"
   ]
  },
  {
   "cell_type": "code",
   "execution_count": 1,
   "metadata": {},
   "outputs": [
    {
     "name": "stdout",
     "output_type": "stream",
     "text": [
      "fatal: destination path 'custom-models' already exists and is not an empty directory.\r\n"
     ]
    }
   ],
   "source": [
    "#Clone the repository\n",
    "!git clone https://github.com/datarobot-community/custom-models"
   ]
  },
  {
   "cell_type": "code",
   "execution_count": 2,
   "metadata": {},
   "outputs": [
    {
     "name": "stdout",
     "output_type": "stream",
     "text": [
      "Requirement already satisfied: PyYAML==5.3.1 in /Users/melanie.hanna/opt/anaconda3/lib/python3.8/site-packages (from -r /Users/melanie.hanna/custom-models-wip/drum_overview/requirements.txt (line 1)) (5.3.1)\n",
      "Collecting xgboost==1.3.3\n",
      "  Downloading xgboost-1.3.3-py3-none-macosx_10_14_x86_64.macosx_10_15_x86_64.macosx_11_0_x86_64.whl (1.2 MB)\n",
      "\u001b[K     |████████████████████████████████| 1.2 MB 1.9 MB/s eta 0:00:01\n",
      "\u001b[?25hRequirement already satisfied: datarobot-drum in /Users/melanie.hanna/opt/anaconda3/lib/python3.8/site-packages (from -r /Users/melanie.hanna/custom-models-wip/drum_overview/requirements.txt (line 3)) (1.5.13)\n",
      "Requirement already satisfied: pandas==1.1.5 in /Users/melanie.hanna/opt/anaconda3/lib/python3.8/site-packages (from -r /Users/melanie.hanna/custom-models-wip/drum_overview/requirements.txt (line 4)) (1.1.5)\n",
      "Requirement already satisfied: scikit-learn==0.23.2 in /Users/melanie.hanna/opt/anaconda3/lib/python3.8/site-packages (from -r /Users/melanie.hanna/custom-models-wip/drum_overview/requirements.txt (line 5)) (0.23.2)\n",
      "Requirement already satisfied: tensorflow==2.5.0 in /Users/melanie.hanna/opt/anaconda3/lib/python3.8/site-packages (from -r /Users/melanie.hanna/custom-models-wip/drum_overview/requirements.txt (line 6)) (2.5.0)\n",
      "Requirement already satisfied: pytz>=2017.2 in /Users/melanie.hanna/opt/anaconda3/lib/python3.8/site-packages (from pandas==1.1.5->-r /Users/melanie.hanna/custom-models-wip/drum_overview/requirements.txt (line 4)) (2021.1)\n",
      "Requirement already satisfied: numpy>=1.15.4 in /Users/melanie.hanna/opt/anaconda3/lib/python3.8/site-packages (from pandas==1.1.5->-r /Users/melanie.hanna/custom-models-wip/drum_overview/requirements.txt (line 4)) (1.19.2)\n",
      "Requirement already satisfied: python-dateutil>=2.7.3 in /Users/melanie.hanna/opt/anaconda3/lib/python3.8/site-packages (from pandas==1.1.5->-r /Users/melanie.hanna/custom-models-wip/drum_overview/requirements.txt (line 4)) (2.8.1)\n",
      "Requirement already satisfied: joblib>=0.11 in /Users/melanie.hanna/opt/anaconda3/lib/python3.8/site-packages (from scikit-learn==0.23.2->-r /Users/melanie.hanna/custom-models-wip/drum_overview/requirements.txt (line 5)) (1.0.1)\n",
      "Requirement already satisfied: scipy>=0.19.1 in /Users/melanie.hanna/opt/anaconda3/lib/python3.8/site-packages (from scikit-learn==0.23.2->-r /Users/melanie.hanna/custom-models-wip/drum_overview/requirements.txt (line 5)) (1.6.2)\n",
      "Requirement already satisfied: threadpoolctl>=2.0.0 in /Users/melanie.hanna/opt/anaconda3/lib/python3.8/site-packages (from scikit-learn==0.23.2->-r /Users/melanie.hanna/custom-models-wip/drum_overview/requirements.txt (line 5)) (2.1.0)\n",
      "Requirement already satisfied: six~=1.15.0 in /Users/melanie.hanna/opt/anaconda3/lib/python3.8/site-packages (from tensorflow==2.5.0->-r /Users/melanie.hanna/custom-models-wip/drum_overview/requirements.txt (line 6)) (1.15.0)\n",
      "Requirement already satisfied: google-pasta~=0.2 in /Users/melanie.hanna/opt/anaconda3/lib/python3.8/site-packages (from tensorflow==2.5.0->-r /Users/melanie.hanna/custom-models-wip/drum_overview/requirements.txt (line 6)) (0.2.0)\n",
      "Requirement already satisfied: protobuf>=3.9.2 in /Users/melanie.hanna/opt/anaconda3/lib/python3.8/site-packages (from tensorflow==2.5.0->-r /Users/melanie.hanna/custom-models-wip/drum_overview/requirements.txt (line 6)) (3.18.0)\n",
      "Requirement already satisfied: flatbuffers~=1.12.0 in /Users/melanie.hanna/opt/anaconda3/lib/python3.8/site-packages (from tensorflow==2.5.0->-r /Users/melanie.hanna/custom-models-wip/drum_overview/requirements.txt (line 6)) (1.12)\n",
      "Requirement already satisfied: keras-nightly~=2.5.0.dev in /Users/melanie.hanna/opt/anaconda3/lib/python3.8/site-packages (from tensorflow==2.5.0->-r /Users/melanie.hanna/custom-models-wip/drum_overview/requirements.txt (line 6)) (2.5.0.dev2021032900)\n",
      "Requirement already satisfied: wheel~=0.35 in /Users/melanie.hanna/opt/anaconda3/lib/python3.8/site-packages (from tensorflow==2.5.0->-r /Users/melanie.hanna/custom-models-wip/drum_overview/requirements.txt (line 6)) (0.36.2)\n",
      "Requirement already satisfied: typing-extensions~=3.7.4 in /Users/melanie.hanna/opt/anaconda3/lib/python3.8/site-packages (from tensorflow==2.5.0->-r /Users/melanie.hanna/custom-models-wip/drum_overview/requirements.txt (line 6)) (3.7.4.3)\n",
      "Requirement already satisfied: grpcio~=1.34.0 in /Users/melanie.hanna/opt/anaconda3/lib/python3.8/site-packages (from tensorflow==2.5.0->-r /Users/melanie.hanna/custom-models-wip/drum_overview/requirements.txt (line 6)) (1.34.1)\n",
      "Requirement already satisfied: astunparse~=1.6.3 in /Users/melanie.hanna/opt/anaconda3/lib/python3.8/site-packages (from tensorflow==2.5.0->-r /Users/melanie.hanna/custom-models-wip/drum_overview/requirements.txt (line 6)) (1.6.3)\n",
      "Requirement already satisfied: h5py~=3.1.0 in /Users/melanie.hanna/opt/anaconda3/lib/python3.8/site-packages (from tensorflow==2.5.0->-r /Users/melanie.hanna/custom-models-wip/drum_overview/requirements.txt (line 6)) (3.1.0)\n",
      "Requirement already satisfied: tensorflow-estimator<2.6.0,>=2.5.0rc0 in /Users/melanie.hanna/opt/anaconda3/lib/python3.8/site-packages (from tensorflow==2.5.0->-r /Users/melanie.hanna/custom-models-wip/drum_overview/requirements.txt (line 6)) (2.5.0)\n",
      "Requirement already satisfied: gast==0.4.0 in /Users/melanie.hanna/opt/anaconda3/lib/python3.8/site-packages (from tensorflow==2.5.0->-r /Users/melanie.hanna/custom-models-wip/drum_overview/requirements.txt (line 6)) (0.4.0)\n",
      "Requirement already satisfied: termcolor~=1.1.0 in /Users/melanie.hanna/opt/anaconda3/lib/python3.8/site-packages (from tensorflow==2.5.0->-r /Users/melanie.hanna/custom-models-wip/drum_overview/requirements.txt (line 6)) (1.1.0)\n",
      "Requirement already satisfied: opt-einsum~=3.3.0 in /Users/melanie.hanna/opt/anaconda3/lib/python3.8/site-packages (from tensorflow==2.5.0->-r /Users/melanie.hanna/custom-models-wip/drum_overview/requirements.txt (line 6)) (3.3.0)\n",
      "Requirement already satisfied: wrapt~=1.12.1 in /Users/melanie.hanna/opt/anaconda3/lib/python3.8/site-packages (from tensorflow==2.5.0->-r /Users/melanie.hanna/custom-models-wip/drum_overview/requirements.txt (line 6)) (1.12.1)\n",
      "Requirement already satisfied: absl-py~=0.10 in /Users/melanie.hanna/opt/anaconda3/lib/python3.8/site-packages (from tensorflow==2.5.0->-r /Users/melanie.hanna/custom-models-wip/drum_overview/requirements.txt (line 6)) (0.14.0)\n",
      "Requirement already satisfied: keras-preprocessing~=1.1.2 in /Users/melanie.hanna/opt/anaconda3/lib/python3.8/site-packages (from tensorflow==2.5.0->-r /Users/melanie.hanna/custom-models-wip/drum_overview/requirements.txt (line 6)) (1.1.2)\n",
      "Requirement already satisfied: tensorboard~=2.5 in /Users/melanie.hanna/opt/anaconda3/lib/python3.8/site-packages (from tensorflow==2.5.0->-r /Users/melanie.hanna/custom-models-wip/drum_overview/requirements.txt (line 6)) (2.6.0)\n",
      "Requirement already satisfied: google-auth<2,>=1.6.3 in /Users/melanie.hanna/opt/anaconda3/lib/python3.8/site-packages (from tensorboard~=2.5->tensorflow==2.5.0->-r /Users/melanie.hanna/custom-models-wip/drum_overview/requirements.txt (line 6)) (1.35.0)\n",
      "Requirement already satisfied: requests<3,>=2.21.0 in /Users/melanie.hanna/opt/anaconda3/lib/python3.8/site-packages (from tensorboard~=2.5->tensorflow==2.5.0->-r /Users/melanie.hanna/custom-models-wip/drum_overview/requirements.txt (line 6)) (2.25.1)\n",
      "Requirement already satisfied: tensorboard-data-server<0.7.0,>=0.6.0 in /Users/melanie.hanna/opt/anaconda3/lib/python3.8/site-packages (from tensorboard~=2.5->tensorflow==2.5.0->-r /Users/melanie.hanna/custom-models-wip/drum_overview/requirements.txt (line 6)) (0.6.1)\n",
      "Requirement already satisfied: werkzeug>=0.11.15 in /Users/melanie.hanna/opt/anaconda3/lib/python3.8/site-packages (from tensorboard~=2.5->tensorflow==2.5.0->-r /Users/melanie.hanna/custom-models-wip/drum_overview/requirements.txt (line 6)) (1.0.1)\n",
      "Requirement already satisfied: google-auth-oauthlib<0.5,>=0.4.1 in /Users/melanie.hanna/opt/anaconda3/lib/python3.8/site-packages (from tensorboard~=2.5->tensorflow==2.5.0->-r /Users/melanie.hanna/custom-models-wip/drum_overview/requirements.txt (line 6)) (0.4.6)\n",
      "Requirement already satisfied: tensorboard-plugin-wit>=1.6.0 in /Users/melanie.hanna/opt/anaconda3/lib/python3.8/site-packages (from tensorboard~=2.5->tensorflow==2.5.0->-r /Users/melanie.hanna/custom-models-wip/drum_overview/requirements.txt (line 6)) (1.8.0)\n",
      "Requirement already satisfied: setuptools>=41.0.0 in /Users/melanie.hanna/opt/anaconda3/lib/python3.8/site-packages (from tensorboard~=2.5->tensorflow==2.5.0->-r /Users/melanie.hanna/custom-models-wip/drum_overview/requirements.txt (line 6)) (52.0.0.post20210125)\n",
      "Requirement already satisfied: markdown>=2.6.8 in /Users/melanie.hanna/opt/anaconda3/lib/python3.8/site-packages (from tensorboard~=2.5->tensorflow==2.5.0->-r /Users/melanie.hanna/custom-models-wip/drum_overview/requirements.txt (line 6)) (3.3.4)\n"
     ]
    },
    {
     "name": "stdout",
     "output_type": "stream",
     "text": [
      "Requirement already satisfied: pyasn1-modules>=0.2.1 in /Users/melanie.hanna/opt/anaconda3/lib/python3.8/site-packages (from google-auth<2,>=1.6.3->tensorboard~=2.5->tensorflow==2.5.0->-r /Users/melanie.hanna/custom-models-wip/drum_overview/requirements.txt (line 6)) (0.2.8)\n",
      "Requirement already satisfied: rsa<5,>=3.1.4 in /Users/melanie.hanna/opt/anaconda3/lib/python3.8/site-packages (from google-auth<2,>=1.6.3->tensorboard~=2.5->tensorflow==2.5.0->-r /Users/melanie.hanna/custom-models-wip/drum_overview/requirements.txt (line 6)) (4.7.2)\n",
      "Requirement already satisfied: cachetools<5.0,>=2.0.0 in /Users/melanie.hanna/opt/anaconda3/lib/python3.8/site-packages (from google-auth<2,>=1.6.3->tensorboard~=2.5->tensorflow==2.5.0->-r /Users/melanie.hanna/custom-models-wip/drum_overview/requirements.txt (line 6)) (4.2.2)\n",
      "Requirement already satisfied: requests-oauthlib>=0.7.0 in /Users/melanie.hanna/opt/anaconda3/lib/python3.8/site-packages (from google-auth-oauthlib<0.5,>=0.4.1->tensorboard~=2.5->tensorflow==2.5.0->-r /Users/melanie.hanna/custom-models-wip/drum_overview/requirements.txt (line 6)) (1.3.0)\n",
      "Requirement already satisfied: pyasn1<0.5.0,>=0.4.6 in /Users/melanie.hanna/opt/anaconda3/lib/python3.8/site-packages (from pyasn1-modules>=0.2.1->google-auth<2,>=1.6.3->tensorboard~=2.5->tensorflow==2.5.0->-r /Users/melanie.hanna/custom-models-wip/drum_overview/requirements.txt (line 6)) (0.4.8)\n",
      "Requirement already satisfied: chardet<5,>=3.0.2 in /Users/melanie.hanna/opt/anaconda3/lib/python3.8/site-packages (from requests<3,>=2.21.0->tensorboard~=2.5->tensorflow==2.5.0->-r /Users/melanie.hanna/custom-models-wip/drum_overview/requirements.txt (line 6)) (4.0.0)\n",
      "Requirement already satisfied: certifi>=2017.4.17 in /Users/melanie.hanna/opt/anaconda3/lib/python3.8/site-packages (from requests<3,>=2.21.0->tensorboard~=2.5->tensorflow==2.5.0->-r /Users/melanie.hanna/custom-models-wip/drum_overview/requirements.txt (line 6)) (2020.12.5)\n",
      "Requirement already satisfied: idna<3,>=2.5 in /Users/melanie.hanna/opt/anaconda3/lib/python3.8/site-packages (from requests<3,>=2.21.0->tensorboard~=2.5->tensorflow==2.5.0->-r /Users/melanie.hanna/custom-models-wip/drum_overview/requirements.txt (line 6)) (2.10)\n",
      "Requirement already satisfied: urllib3<1.27,>=1.21.1 in /Users/melanie.hanna/opt/anaconda3/lib/python3.8/site-packages (from requests<3,>=2.21.0->tensorboard~=2.5->tensorflow==2.5.0->-r /Users/melanie.hanna/custom-models-wip/drum_overview/requirements.txt (line 6)) (1.26.4)\n",
      "Requirement already satisfied: oauthlib>=3.0.0 in /Users/melanie.hanna/opt/anaconda3/lib/python3.8/site-packages (from requests-oauthlib>=0.7.0->google-auth-oauthlib<0.5,>=0.4.1->tensorboard~=2.5->tensorflow==2.5.0->-r /Users/melanie.hanna/custom-models-wip/drum_overview/requirements.txt (line 6)) (3.1.1)\n",
      "Requirement already satisfied: py4j~=0.10.9.0 in /Users/melanie.hanna/opt/anaconda3/lib/python3.8/site-packages (from datarobot-drum->-r /Users/melanie.hanna/custom-models-wip/drum_overview/requirements.txt (line 3)) (0.10.9.2)\n",
      "Requirement already satisfied: mlpiper~=2.4.0 in /Users/melanie.hanna/opt/anaconda3/lib/python3.8/site-packages (from datarobot-drum->-r /Users/melanie.hanna/custom-models-wip/drum_overview/requirements.txt (line 3)) (2.4.2)\n",
      "Requirement already satisfied: strictyaml==1.4.2 in /Users/melanie.hanna/opt/anaconda3/lib/python3.8/site-packages (from datarobot-drum->-r /Users/melanie.hanna/custom-models-wip/drum_overview/requirements.txt (line 3)) (1.4.2)\n",
      "Requirement already satisfied: pyarrow==2.0.0 in /Users/melanie.hanna/opt/anaconda3/lib/python3.8/site-packages (from datarobot-drum->-r /Users/melanie.hanna/custom-models-wip/drum_overview/requirements.txt (line 3)) (2.0.0)\n",
      "Requirement already satisfied: Pillow==8.3.2 in /Users/melanie.hanna/opt/anaconda3/lib/python3.8/site-packages (from datarobot-drum->-r /Users/melanie.hanna/custom-models-wip/drum_overview/requirements.txt (line 3)) (8.3.2)\n",
      "Requirement already satisfied: datarobot==2.24.0 in /Users/melanie.hanna/opt/anaconda3/lib/python3.8/site-packages (from datarobot-drum->-r /Users/melanie.hanna/custom-models-wip/drum_overview/requirements.txt (line 3)) (2.24.0)\n",
      "Requirement already satisfied: memory-profiler<1.0.0 in /Users/melanie.hanna/opt/anaconda3/lib/python3.8/site-packages (from datarobot-drum->-r /Users/melanie.hanna/custom-models-wip/drum_overview/requirements.txt (line 3)) (0.58.0)\n",
      "Requirement already satisfied: progress in /Users/melanie.hanna/opt/anaconda3/lib/python3.8/site-packages (from datarobot-drum->-r /Users/melanie.hanna/custom-models-wip/drum_overview/requirements.txt (line 3)) (1.6)\n",
      "Requirement already satisfied: flask in /Users/melanie.hanna/opt/anaconda3/lib/python3.8/site-packages (from datarobot-drum->-r /Users/melanie.hanna/custom-models-wip/drum_overview/requirements.txt (line 3)) (1.1.2)\n",
      "Requirement already satisfied: texttable in /Users/melanie.hanna/opt/anaconda3/lib/python3.8/site-packages (from datarobot-drum->-r /Users/melanie.hanna/custom-models-wip/drum_overview/requirements.txt (line 3)) (1.6.4)\n",
      "Requirement already satisfied: julia==0.5.6 in /Users/melanie.hanna/opt/anaconda3/lib/python3.8/site-packages (from datarobot-drum->-r /Users/melanie.hanna/custom-models-wip/drum_overview/requirements.txt (line 3)) (0.5.6)\n",
      "Requirement already satisfied: docker>=4.2.2<5.0.0 in /Users/melanie.hanna/opt/anaconda3/lib/python3.8/site-packages (from datarobot-drum->-r /Users/melanie.hanna/custom-models-wip/drum_overview/requirements.txt (line 3)) (5.0.2)\n",
      "Requirement already satisfied: argcomplete==1.11.1 in /Users/melanie.hanna/opt/anaconda3/lib/python3.8/site-packages (from datarobot-drum->-r /Users/melanie.hanna/custom-models-wip/drum_overview/requirements.txt (line 3)) (1.11.1)\n",
      "Requirement already satisfied: jinja2 in /Users/melanie.hanna/opt/anaconda3/lib/python3.8/site-packages (from datarobot-drum->-r /Users/melanie.hanna/custom-models-wip/drum_overview/requirements.txt (line 3)) (2.11.3)\n",
      "Requirement already satisfied: contextlib2>=0.5.5 in /Users/melanie.hanna/opt/anaconda3/lib/python3.8/site-packages (from datarobot==2.24.0->datarobot-drum->-r /Users/melanie.hanna/custom-models-wip/drum_overview/requirements.txt (line 3)) (0.6.0.post1)\n",
      "Requirement already satisfied: attrs<20.0,>=19.1.0 in /Users/melanie.hanna/opt/anaconda3/lib/python3.8/site-packages (from datarobot==2.24.0->datarobot-drum->-r /Users/melanie.hanna/custom-models-wip/drum_overview/requirements.txt (line 3)) (19.3.0)\n",
      "Requirement already satisfied: trafaret!=1.1.0,<2.0,>=0.7 in /Users/melanie.hanna/opt/anaconda3/lib/python3.8/site-packages (from datarobot==2.24.0->datarobot-drum->-r /Users/melanie.hanna/custom-models-wip/drum_overview/requirements.txt (line 3)) (1.2.0)\n",
      "Requirement already satisfied: requests-toolbelt>=0.6 in /Users/melanie.hanna/opt/anaconda3/lib/python3.8/site-packages (from datarobot==2.24.0->datarobot-drum->-r /Users/melanie.hanna/custom-models-wip/drum_overview/requirements.txt (line 3)) (0.9.1)\n",
      "Requirement already satisfied: ruamel.yaml==0.17.4 in /Users/melanie.hanna/opt/anaconda3/lib/python3.8/site-packages (from strictyaml==1.4.2->datarobot-drum->-r /Users/melanie.hanna/custom-models-wip/drum_overview/requirements.txt (line 3)) (0.17.4)\n",
      "Requirement already satisfied: ruamel.yaml.clib>=0.1.2 in /Users/melanie.hanna/opt/anaconda3/lib/python3.8/site-packages (from ruamel.yaml==0.17.4->strictyaml==1.4.2->datarobot-drum->-r /Users/melanie.hanna/custom-models-wip/drum_overview/requirements.txt (line 3)) (0.2.6)\n",
      "Requirement already satisfied: websocket-client>=0.32.0 in /Users/melanie.hanna/opt/anaconda3/lib/python3.8/site-packages (from docker>=4.2.2<5.0.0->datarobot-drum->-r /Users/melanie.hanna/custom-models-wip/drum_overview/requirements.txt (line 3)) (1.2.1)\n",
      "Requirement already satisfied: psutil in /Users/melanie.hanna/opt/anaconda3/lib/python3.8/site-packages (from memory-profiler<1.0.0->datarobot-drum->-r /Users/melanie.hanna/custom-models-wip/drum_overview/requirements.txt (line 3)) (5.8.0)\n",
      "Requirement already satisfied: uwsgi in /Users/melanie.hanna/opt/anaconda3/lib/python3.8/site-packages (from mlpiper~=2.4.0->datarobot-drum->-r /Users/melanie.hanna/custom-models-wip/drum_overview/requirements.txt (line 3)) (2.0.19.1)\n",
      "Requirement already satisfied: future in /Users/melanie.hanna/opt/anaconda3/lib/python3.8/site-packages (from mlpiper~=2.4.0->datarobot-drum->-r /Users/melanie.hanna/custom-models-wip/drum_overview/requirements.txt (line 3)) (0.18.2)\n",
      "Requirement already satisfied: flask-cors in /Users/melanie.hanna/opt/anaconda3/lib/python3.8/site-packages (from mlpiper~=2.4.0->datarobot-drum->-r /Users/melanie.hanna/custom-models-wip/drum_overview/requirements.txt (line 3)) (3.0.10)\n"
     ]
    },
    {
     "name": "stdout",
     "output_type": "stream",
     "text": [
      "Requirement already satisfied: click>=5.1 in /Users/melanie.hanna/opt/anaconda3/lib/python3.8/site-packages (from flask->datarobot-drum->-r /Users/melanie.hanna/custom-models-wip/drum_overview/requirements.txt (line 3)) (7.1.2)\n",
      "Requirement already satisfied: itsdangerous>=0.24 in /Users/melanie.hanna/opt/anaconda3/lib/python3.8/site-packages (from flask->datarobot-drum->-r /Users/melanie.hanna/custom-models-wip/drum_overview/requirements.txt (line 3)) (1.1.0)\n",
      "Requirement already satisfied: MarkupSafe>=0.23 in /Users/melanie.hanna/opt/anaconda3/lib/python3.8/site-packages (from jinja2->datarobot-drum->-r /Users/melanie.hanna/custom-models-wip/drum_overview/requirements.txt (line 3)) (1.1.1)\n",
      "Installing collected packages: xgboost\n",
      "  Attempting uninstall: xgboost\n",
      "    Found existing installation: xgboost 1.2.1\n",
      "    Uninstalling xgboost-1.2.1:\n",
      "      Successfully uninstalled xgboost-1.2.1\n",
      "Successfully installed xgboost-1.3.3\n"
     ]
    }
   ],
   "source": [
    "!pip install -r ~/custom-models/drum_overview/requirements.txt"
   ]
  },
  {
   "cell_type": "markdown",
   "metadata": {},
   "source": [
    "## Train a regression model\n",
    "\n",
    "A simple RandomForestRegressor to predict house prices in Boston."
   ]
  },
  {
   "cell_type": "code",
   "execution_count": 1,
   "metadata": {},
   "outputs": [
    {
     "data": {
      "text/plain": [
       "array([25.703, 21.949, 34.722, 33.492, 35.367, 26.658, 21.711, 23.087,\n",
       "       17.043])"
      ]
     },
     "execution_count": 1,
     "metadata": {},
     "output_type": "execute_result"
    }
   ],
   "source": [
    "import pandas as pd\n",
    "from sklearn.ensemble import RandomForestRegressor\n",
    "import pickle\n",
    "import datetime\n",
    "\n",
    "# Read the train and test data\n",
    "TRAIN_DATA_REG = \"./custom-models/drum_overview/data/boston_housing_train.csv\"  # 14 features\n",
    "TEST_DATA_REG = \"./custom-models/drum_overview/data/boston_housing_test.csv\"  # 13 features - target is removed\n",
    "\n",
    "reg_X_train = pd.read_csv(TRAIN_DATA_REG)\n",
    "reg_Y_train = reg_X_train.pop('MEDV')\n",
    "\n",
    "reg_X_test = pd.read_csv(TEST_DATA_REG)\n",
    "\n",
    "# Fit the model\n",
    "rf = RandomForestRegressor()\n",
    "rf.fit(reg_X_train, reg_Y_train)\n",
    "\n",
    "# Pickle the file and write it to the file system\n",
    "with open(\"./custom-models/drum_overview/custom_model_reg/reg_rf_model.pkl\", 'wb') as pkl:\n",
    "    pickle.dump(rf, pkl)\n",
    "    \n",
    "# Call predict to confirm it works\n",
    "rf.predict(reg_X_test)"
   ]
  },
  {
   "cell_type": "markdown",
   "metadata": {},
   "source": [
    "## Testing the Model\n",
    "\n",
    "Input the prediction dataset that includes all features except the target feature.\n",
    "\n",
    "*Note if you see the error `xgboost.core.XGBoostError: XGBoost Library (libxgboost.dylib) could not be loaded` when trying to run the performance test below, you will need to install the libomp package via homebrew as in the cell below.*"
   ]
  },
  {
   "cell_type": "code",
   "execution_count": 6,
   "metadata": {},
   "outputs": [
    {
     "name": "stdout",
     "output_type": "stream",
     "text": [
      "\u001b[34m==>\u001b[0m \u001b[1mDownloading https://ghcr.io/v2/homebrew/core/libomp/manifests/12.0.1\u001b[0m\n",
      "######################################################################## 100.0%\n",
      "\u001b[34m==>\u001b[0m \u001b[1mDownloading https://ghcr.io/v2/homebrew/core/libomp/blobs/sha256:cba5086bd24\u001b[0m\n",
      "\u001b[34m==>\u001b[0m \u001b[1mDownloading from https://pkg-containers.githubusercontent.com/ghcr1/blobs/sh\u001b[0m\n",
      "######################################################################## 100.0%\n",
      "\u001b[34m==>\u001b[0m \u001b[1mPouring libomp--12.0.1.big_sur.bottle.tar.gz\u001b[0m\n",
      "🍺  /usr/local/Cellar/libomp/12.0.1: 9 files, 1.5MB\n"
     ]
    }
   ],
   "source": [
    "!brew install libomp"
   ]
  },
  {
   "cell_type": "code",
   "execution_count": 2,
   "metadata": {},
   "outputs": [
    {
     "name": "stdout",
     "output_type": "stream",
     "text": [
      "DRUM performance test\n",
      "Model:      /Users/melanie.hanna/custom-models/drum_overview/custom_model_reg\n",
      "Data:       /Users/melanie.hanna/custom-models/drum_overview/data/boston_housing_test.csv\n",
      "# Features: 13\n",
      "Preparing test data...\n",
      "\n",
      "\n",
      "\n",
      "Running test case with timeout: 600\n",
      "Running test case: 72 bytes - 1 samples, 100 iterations\n",
      "Running test case with timeout: 600\n",
      "Running test case: 0.1MB - 1449 samples, 50 iterations\n",
      "Running test case with timeout: 600\n",
      "Running test case: 10MB - 144964 samples, 5 iterations\n",
      "Running test case with timeout: 600\n",
      "Running test case: 50MB - 724823 samples, 1 iterations\n",
      "Test is done stopping drum server\n",
      "\n",
      "  size     samples   iters    min     avg     max     total     used     total p\n",
      "                                                       (s)      (MB)     hysical\n",
      "                                                                          (MB)  \n",
      "================================================================================\n",
      "72 bytes         1     100   0.014   0.023   0.093     2.274   350.738   16384.0\n",
      "                                                                              00\n",
      "0.1MB         1449      50   0.023   0.033   0.086     1.648   354.461   16384.0\n",
      "                                                                              00\n",
      "10MB        144964       5   0.929   0.943   0.967     4.713   389.227   16384.0\n",
      "                                                                              00\n",
      "50MB        724823       1   4.670   4.670   4.670     4.670   502.594   16384.0\n",
      "                                                                              00\n"
     ]
    },
    {
     "name": "stderr",
     "output_type": "stream",
     "text": [
      "tput: terminal attributes: Device not configured\n",
      "\n"
     ]
    }
   ],
   "source": [
    "%%sh \n",
    "drum perf-test --code-dir ~/custom-models/drum_overview/custom_model_reg --input ~/custom-models/drum_overview/data/boston_housing_test.csv  --target-type regression"
   ]
  },
  {
   "cell_type": "markdown",
   "metadata": {},
   "source": [
    "## Validating the Model"
   ]
  },
  {
   "cell_type": "code",
   "execution_count": 3,
   "metadata": {},
   "outputs": [],
   "source": [
    "%%sh \n",
    "drum validation --code-dir ~/custom-models/drum_overview/custom_model_reg \\\n",
    "--input ~/custom-models/drum_overview/data/boston_housing_test.csv \\\n",
    "--target-type regression > drum_validation.log"
   ]
  },
  {
   "cell_type": "code",
   "execution_count": 4,
   "metadata": {},
   "outputs": [
    {
     "name": "stdout",
     "output_type": "stream",
     "text": [
      "\n",
      "\n",
      "Validation checks results\n",
      "      Test case          Status   Details\n",
      "=========================================\n",
      "Basic batch prediction   PASSED          \n",
      "Null value imputation    PASSED          \n"
     ]
    }
   ],
   "source": [
    "%%sh\n",
    "tail drum_validation.log"
   ]
  },
  {
   "cell_type": "markdown",
   "metadata": {},
   "source": [
    "# Batch Scoring with DRUM\n",
    "<a id=\"setup_complete\"></a>\n",
    "\n",
    "At this point our model has been written to disk and we want to start making predictions with it.  To do this, we'll leverage DRUM and it's ability to natively handle our scikit learn model, all we need to do is tell DRUM where it resides as well as the data we wish to score.  \n",
    "\n",
    "There are a lot of frameworks which DRUM supports natively, but for those which DRUM doesn't support off the shelf, we'll just need to create some custom hooks so DRUM.  In this example, we'll highlight some very simple custom hooks, and will provide links to more complex examples.  "
   ]
  },
  {
   "cell_type": "code",
   "execution_count": 5,
   "metadata": {},
   "outputs": [],
   "source": [
    "%%sh \n",
    "drum score --code-dir ~/custom-models/drum_overview/custom_model_reg \\\n",
    "--input ~/custom-models/drum_overview/data/boston_housing_test.csv \\\n",
    "--output ~/custom-models/drum_overview/data/predictions.csv --target-type regression"
   ]
  },
  {
   "cell_type": "code",
   "execution_count": 6,
   "metadata": {},
   "outputs": [
    {
     "data": {
      "text/html": [
       "<div>\n",
       "<style scoped>\n",
       "    .dataframe tbody tr th:only-of-type {\n",
       "        vertical-align: middle;\n",
       "    }\n",
       "\n",
       "    .dataframe tbody tr th {\n",
       "        vertical-align: top;\n",
       "    }\n",
       "\n",
       "    .dataframe thead th {\n",
       "        text-align: right;\n",
       "    }\n",
       "</style>\n",
       "<table border=\"1\" class=\"dataframe\">\n",
       "  <thead>\n",
       "    <tr style=\"text-align: right;\">\n",
       "      <th></th>\n",
       "      <th>Predictions</th>\n",
       "    </tr>\n",
       "  </thead>\n",
       "  <tbody>\n",
       "    <tr>\n",
       "      <th>0</th>\n",
       "      <td>25.941</td>\n",
       "    </tr>\n",
       "    <tr>\n",
       "      <th>1</th>\n",
       "      <td>22.129</td>\n",
       "    </tr>\n",
       "    <tr>\n",
       "      <th>2</th>\n",
       "      <td>34.559</td>\n",
       "    </tr>\n",
       "    <tr>\n",
       "      <th>3</th>\n",
       "      <td>33.845</td>\n",
       "    </tr>\n",
       "    <tr>\n",
       "      <th>4</th>\n",
       "      <td>35.273</td>\n",
       "    </tr>\n",
       "  </tbody>\n",
       "</table>\n",
       "</div>"
      ],
      "text/plain": [
       "   Predictions\n",
       "0       25.941\n",
       "1       22.129\n",
       "2       34.559\n",
       "3       33.845\n",
       "4       35.273"
      ]
     },
     "execution_count": 6,
     "metadata": {},
     "output_type": "execute_result"
    }
   ],
   "source": [
    "pd.read_csv(\"~/custom-models/drum_overview/data/predictions.csv\").head()"
   ]
  },
  {
   "cell_type": "markdown",
   "metadata": {},
   "source": [
    "# Start the inference server locally\n",
    "\n",
    "Batch scoring can be very useful, but the utility DRUM offers does not stop there.  We can also leverage DRUM to serve our model as a RESTful API endpoint.  The only thing that changes is the way we will structure the command - using the `server` mode instead of `score` model.  We'll also need to provide an address which is NOT in use.  \n",
    "\n",
    "When starting the server, we'll use `subprocess.Popen` so we may interact with the server in this notebook"
   ]
  },
  {
   "cell_type": "code",
   "execution_count": 7,
   "metadata": {},
   "outputs": [],
   "source": [
    "import subprocess\n",
    "import requests\n",
    "import pandas as pd\n",
    "from io import BytesIO\n",
    "import yaml\n",
    "import time\n",
    "import os\n",
    "import datarobot as dr\n",
    "from pprint import pprint"
   ]
  },
  {
   "cell_type": "code",
   "execution_count": 50,
   "metadata": {},
   "outputs": [],
   "source": [
    "PORT = '6001'"
   ]
  },
  {
   "cell_type": "code",
   "execution_count": 51,
   "metadata": {},
   "outputs": [],
   "source": [
    "run_inference_server = [\"drum\",\n",
    "              \"server\",\n",
    "              \"--code-dir\",\"./custom-models/drum_overview/custom_model_reg\", \n",
    "              \"--address\", f\"0.0.0.0:{PORT}\", \n",
    "              \"--show-perf\",\n",
    "              \"--target-type\", \"regression\",\n",
    "              \"--logging-level\", \"info\",\n",
    "              \"--show-stacktrace\",\n",
    "              \"--verbose\"\n",
    "              ]"
   ]
  },
  {
   "cell_type": "code",
   "execution_count": 52,
   "metadata": {},
   "outputs": [],
   "source": [
    "inference_server = subprocess.Popen(run_inference_server, stdout=subprocess.PIPE)"
   ]
  },
  {
   "cell_type": "code",
   "execution_count": 53,
   "metadata": {},
   "outputs": [
    {
     "name": "stdout",
     "output_type": "stream",
     "text": [
      "check status\n"
     ]
    },
    {
     "data": {
      "text/plain": [
       "b'{\"message\":\"OK\"}\\n'"
      ]
     },
     "execution_count": 53,
     "metadata": {},
     "output_type": "execute_result"
    }
   ],
   "source": [
    "## confirm the server is running\n",
    "time.sleep(10) ## snoozing before pinging the server to give it time to actually start\n",
    "print('check status')\n",
    "requests.request(\"GET\", f\"http://0.0.0.0:{PORT}\").content"
   ]
  },
  {
   "cell_type": "markdown",
   "metadata": {},
   "source": [
    "## Send data to server for inference\n",
    "\n",
    "The request must provide our dataset as form data.  In order to do so, we'll create a simple python function to pass the data over appropriately.  We'll leverage the same function in our simple flask app a little later.  "
   ]
  },
  {
   "cell_type": "code",
   "execution_count": 37,
   "metadata": {},
   "outputs": [],
   "source": [
    "def score(data, port = PORT):\n",
    "    b_buf = BytesIO()\n",
    "    b_buf.write(data.to_csv(index=False).encode(\"utf-8\"))\n",
    "    b_buf.seek(0)\n",
    "  \n",
    "    url = \"http://localhost:{}/predict/\".format(port)\n",
    "    files = [\n",
    "        ('X', b_buf)\n",
    "    ]\n",
    "    response = requests.request(\"POST\", url, files = files, timeout=None, verify=False)\n",
    "    return response"
   ]
  },
  {
   "cell_type": "code",
   "execution_count": 38,
   "metadata": {},
   "outputs": [
    {
     "name": "stdout",
     "output_type": "stream",
     "text": [
      "{'predictions': [25.703,\n",
      "                 21.949,\n",
      "                 34.722,\n",
      "                 33.492,\n",
      "                 35.367,\n",
      "                 26.658,\n",
      "                 21.711,\n",
      "                 23.087,\n",
      "                 17.043]}\n"
     ]
    }
   ],
   "source": [
    "# %%timeit\n",
    "scoring_data = pd.read_csv(\"~/custom-models/drum_overview/data/boston_housing_test.csv\")\n",
    "predictions = score(scoring_data).json() ## score entire dataset but only show first 5 records\n",
    "pprint(predictions)"
   ]
  },
  {
   "cell_type": "code",
   "execution_count": 39,
   "metadata": {},
   "outputs": [
    {
     "data": {
      "text/plain": [
       "b'{\"message\":\"OK\"}\\n'"
      ]
     },
     "execution_count": 39,
     "metadata": {},
     "output_type": "execute_result"
    }
   ],
   "source": [
    "requests.request(\"GET\", f\"http://0.0.0.0:{PORT}/\").content"
   ]
  },
  {
   "cell_type": "code",
   "execution_count": 54,
   "metadata": {},
   "outputs": [
    {
     "data": {
      "text/plain": [
       "[b'Detected REST server mode - this is an advanced option\\n',\n",
       " b'Detected /Users/melanie.hanna/custom-models-wip/drum_overview/custom-models/drum_overview/custom_model_reg/custom.py .. trying to load hooks\\n',\n",
       " b'\\x1b[32m \\x1b[0m\\n',\n",
       " b'\\x1b[32m \\x1b[0m\\n',\n",
       " b'\\x1b[32m============================================================\\x1b[0m\\n',\n",
       " b'\\x1b[32mComponent: Prediction Server\\x1b[0m\\n',\n",
       " b'\\x1b[32mOutput:\\x1b[0m\\n',\n",
       " b'\\x1b[32m------------------------------------------------------------\\x1b[0m\\n']"
      ]
     },
     "execution_count": 54,
     "metadata": {},
     "output_type": "execute_result"
    }
   ],
   "source": [
    "inference_server.terminate()\n",
    "inference_server.stdout.readlines()"
   ]
  },
  {
   "cell_type": "code",
   "execution_count": 55,
   "metadata": {},
   "outputs": [],
   "source": [
    "inference_server.kill()"
   ]
  },
  {
   "cell_type": "code",
   "execution_count": 56,
   "metadata": {},
   "outputs": [],
   "source": [
    "#Stop the flask server\n",
    "!lsof -i tcp:6001 | grep -v PID | awk '{print $2}' | xargs kill"
   ]
  },
  {
   "cell_type": "markdown",
   "metadata": {},
   "source": [
    "## Value Prop\n",
    "\n",
    "One may ask, what is the benefit to be had here?  Well, first of, there is not need for me to write an api to get the model up and running.  Second, DRUM allows me to abstract the framework away (provided I'm using one that is natively supported, or I can write enough python so that DRUM understands how to hook up to the model.  \n",
    "\n",
    "For example, I could hot swap models as I see fit (see exampels in `./src/other_models`)\n",
    "\n",
    "While we will run through several other frameworks with in `score` you can bet they are supported in `server` mode as well!"
   ]
  },
  {
   "cell_type": "markdown",
   "metadata": {},
   "source": [
    "#### H2o Mojo"
   ]
  },
  {
   "cell_type": "code",
   "execution_count": 57,
   "metadata": {},
   "outputs": [
    {
     "name": "stdout",
     "output_type": "stream",
     "text": [
      "The operation couldn’t be completed. Unable to locate a Java Runtime.\n",
      "Please visit http://www.java.com for information on installing Java.\n",
      "\n",
      "\n",
      "java gateway failed to start\n"
     ]
    }
   ],
   "source": [
    "!drum score --code-dir ~/custom-models/drum_overview/other_models/h2o_mojo/regression --input ~/custom-models/drum_overview/data/boston_housing_test.csv --target-type regression"
   ]
  },
  {
   "cell_type": "markdown",
   "metadata": {},
   "source": [
    "#### Keras"
   ]
  },
  {
   "cell_type": "code",
   "execution_count": 58,
   "metadata": {},
   "outputs": [
    {
     "name": "stdout",
     "output_type": "stream",
     "text": [
      "/Users/melanie.hanna/opt/anaconda3/lib/python3.8/site-packages/sklearn/base.py:329: UserWarning: Trying to unpickle estimator SimpleImputer from version 0.23.1 when using version 0.23.2. This might lead to breaking code or invalid results. Use at your own risk.\n",
      "  warnings.warn(\n",
      "/Users/melanie.hanna/opt/anaconda3/lib/python3.8/site-packages/sklearn/base.py:329: UserWarning: Trying to unpickle estimator StandardScaler from version 0.23.1 when using version 0.23.2. This might lead to breaking code or invalid results. Use at your own risk.\n",
      "  warnings.warn(\n",
      "/Users/melanie.hanna/opt/anaconda3/lib/python3.8/site-packages/sklearn/base.py:329: UserWarning: Trying to unpickle estimator Pipeline from version 0.23.1 when using version 0.23.2. This might lead to breaking code or invalid results. Use at your own risk.\n",
      "  warnings.warn(\n",
      "/Users/melanie.hanna/opt/anaconda3/lib/python3.8/site-packages/sklearn/base.py:329: UserWarning: Trying to unpickle estimator ColumnTransformer from version 0.23.1 when using version 0.23.2. This might lead to breaking code or invalid results. Use at your own risk.\n",
      "  warnings.warn(\n",
      "2021-09-27 07:59:37.001104: I tensorflow/core/platform/cpu_feature_guard.cc:142] This TensorFlow binary is optimized with oneAPI Deep Neural Network Library (oneDNN) to use the following CPU instructions in performance-critical operations:  AVX2 FMA\n",
      "To enable them in other operations, rebuild TensorFlow with the appropriate compiler flags.\n",
      "2021-09-27 07:59:37,038 WARNING tensorflow:  No training configuration found in the save file, so the model was *not* compiled. Compile it manually.\n",
      "2021-09-27 07:59:37.087330: I tensorflow/compiler/mlir/mlir_graph_optimization_pass.cc:176] None of the MLIR Optimization Passes are enabled (registered 2)\n",
      "   Predictions\n",
      "0    23.668932\n",
      "1    23.421118\n",
      "2    31.283530\n",
      "3    33.996525\n",
      "4    33.757940\n",
      "5    28.036716\n",
      "6    20.675852\n",
      "7    19.578413\n",
      "8    19.676756\n"
     ]
    }
   ],
   "source": [
    "!drum score --code-dir ~/custom-models/drum_overview/other_models/python3_keras_joblib --input ~/custom-models/drum_overview/data/boston_housing_test.csv --target-type regression"
   ]
  },
  {
   "cell_type": "markdown",
   "metadata": {},
   "source": [
    "#### XGBoost"
   ]
  },
  {
   "cell_type": "code",
   "execution_count": 59,
   "metadata": {},
   "outputs": [
    {
     "name": "stdout",
     "output_type": "stream",
     "text": [
      "   Predictions\r\n",
      "0    24.541843\r\n",
      "1    21.260277\r\n",
      "2    34.018497\r\n",
      "3    32.569200\r\n",
      "4    34.248066\r\n",
      "5    27.282364\r\n",
      "6    20.803959\r\n",
      "7    19.645220\r\n",
      "8    16.968882\r\n"
     ]
    }
   ],
   "source": [
    "!drum score --code-dir ~/custom-models/drum_overview/other_models/python3_xgboost --input ~/custom-models/drum_overview/data/boston_housing_test.csv --target-type regression"
   ]
  },
  {
   "cell_type": "markdown",
   "metadata": {},
   "source": [
    "#### DataRobot Codegen"
   ]
  },
  {
   "cell_type": "code",
   "execution_count": 60,
   "metadata": {},
   "outputs": [
    {
     "name": "stdout",
     "output_type": "stream",
     "text": [
      "The operation couldn’t be completed. Unable to locate a Java Runtime.\n",
      "Please visit http://www.java.com for information on installing Java.\n",
      "\n",
      "\n",
      "java gateway failed to start\n"
     ]
    }
   ],
   "source": [
    "!drum score --code-dir ~/custom-models/drum_overview/other_models/dr_codegen --input ~/custom-models/drum_overview/data/boston_housing_test.csv --target-type regression"
   ]
  },
  {
   "cell_type": "code",
   "execution_count": null,
   "metadata": {},
   "outputs": [],
   "source": []
  }
 ],
 "metadata": {
  "kernelspec": {
   "display_name": "Python 3",
   "language": "python",
   "name": "python3"
  },
  "language_info": {
   "codemirror_mode": {
    "name": "ipython",
    "version": 3
   },
   "file_extension": ".py",
   "mimetype": "text/x-python",
   "name": "python",
   "nbconvert_exporter": "python",
   "pygments_lexer": "ipython3",
   "version": "3.8.8"
  }
 },
 "nbformat": 4,
 "nbformat_minor": 2
}
