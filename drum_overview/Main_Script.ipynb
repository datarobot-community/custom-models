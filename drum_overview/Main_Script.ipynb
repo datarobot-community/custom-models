{
 "cells": [
  {
   "cell_type": "markdown",
   "metadata": {},
   "source": [
    "<a href=\"https://colab.research.google.com/github/datarobot-community/custom-models/blob/master/drum_overview/Main_Script.ipynb\" target=\"_parent\"><img src=\"https://colab.research.google.com/assets/colab-badge.svg\" alt=\"Open In Colab\"/></a>"
   ]
  },
  {
   "cell_type": "markdown",
   "metadata": {},
   "source": [
    "## Using MLOps DRUM to test your custom models\n",
    "**Author**: Tim Whittaker\n",
    "\n",
    "#### Scope\n",
    "We'll get our hands dirty by:\n",
    "\n",
    "* Building a simple regression model using Scikit\n",
    "* Using DRUM for Batch Scoring\n",
    "* Using DRUM to get a REST API endpoint\n",
    "* Show a simple example app connected to the REST API\n",
    "* H2O, Keras, XGBoost, and DataRobot\n",
    "* Add a DataRobot remote agent if you are interested in further model monitoring\n",
    "\n"
   ]
  },
  {
   "cell_type": "code",
   "execution_count": null,
   "metadata": {},
   "outputs": [],
   "source": [
    "#Clone the repository\n",
    "!git clone https://github.com/datarobot-community/mlops-examples"
   ]
  },
  {
   "cell_type": "code",
   "execution_count": null,
   "metadata": {},
   "outputs": [],
   "source": [
    "!pip install -r /content/mlops-examples/drum_overview/requirements.txt"
   ]
  },
  {
   "cell_type": "markdown",
   "metadata": {},
   "source": [
    "## Train a regression model\n",
    "\n",
    "A simple RandomForestRegressor to predict house prices using the Concrete compressive strength dataset found in this paper:\n",
    "\n",
    "`I-Cheng Yeh, \"Modeling of strength of high performance concrete using artificial neural networks,\" Cement and Concrete Research, Vol. 28, No. 12, pp. 1797-1808 (1998).`."
   ]
  },
  {
   "cell_type": "code",
   "execution_count": 19,
   "metadata": {},
   "outputs": [
    {
     "data": {
      "text/plain": [
       "array([47.80232256, 15.75251333, 30.46034641, 11.20301973,  4.45028489,\n",
       "       25.49138251, 41.3377946 ,  5.41167644, 33.94650944, 35.69269015,\n",
       "       51.69296668, 20.23232848,  9.14960852,  8.83707594, 39.50436169,\n",
       "        9.89364276,  5.97656413, 10.5134541 , 43.69996794, 48.86625297,\n",
       "       12.70730468, 16.61245538, 27.46318735, 35.84154112, 38.40258593,\n",
       "       14.28827315, 17.13399571, 31.96783053, 38.01614842, 39.44389464,\n",
       "       15.31419275, 12.83106562, 33.51324962, 40.06370599, 40.72231415,\n",
       "       11.62349667, 17.63828535, 17.32331203, 24.56273418, 26.81768613,\n",
       "       44.41539286, 53.00673266, 36.9936762 , 14.86864647, 22.59005372,\n",
       "       16.97513945, 25.03654209, 32.70590375, 36.06022518, 44.72348127,\n",
       "       50.90934962, 56.08790733, 65.72064548, 69.21720482, 70.89095705,\n",
       "       72.33030715, 18.33247736, 23.07090117, 28.71617898, 30.12548171,\n",
       "       31.80814789, 32.9065521 ,  9.59848498, 15.16150829, 22.34782011,\n",
       "       26.24662763, 32.99375013, 38.99345308, 40.33700738, 15.0334007 ,\n",
       "       13.5138675 , 24.31280603, 37.16254266, 13.79420154, 22.61894276,\n",
       "       20.94301276, 31.41158887, 15.73414569, 25.71722038, 17.7042751 ,\n",
       "       15.44417966, 23.1088982 , 30.61635415, 13.66933448, 16.54488673,\n",
       "       31.5664176 , 37.17536692, 17.09937712, 33.32618099, 39.72177415,\n",
       "       40.83465047, 41.72094429, 19.54498986, 28.62098992, 61.00144426,\n",
       "       49.25769017, 51.09149933, 54.41518734, 39.72598587, 13.2185925 ,\n",
       "       19.61646094, 31.70994582, 20.50259618, 39.11633838, 47.99849916,\n",
       "       23.84694778, 38.35374345, 11.98284467, 19.61646094, 15.84397232,\n",
       "       28.05344086, 34.84786831, 37.08484561, 37.80458961, 34.03441073,\n",
       "       41.70695482, 46.21536944, 55.66469318, 58.84881745, 64.32714553,\n",
       "       21.26723196, 26.34752555, 30.93831186, 23.81378398, 38.72663276,\n",
       "       24.46527084, 47.38106257, 69.34109774, 37.44229065, 33.85482982,\n",
       "       18.41666928, 20.55874021, 35.36957411, 37.60469673, 15.62795949,\n",
       "       35.80396468, 40.18442634, 30.22264956, 26.99076529, 45.36747254,\n",
       "       30.67902752, 15.23844002, 41.74333847, 52.45043191, 56.3988748 ,\n",
       "       64.10707858, 50.92200151, 33.7256358 , 21.95574269, 36.56561503,\n",
       "       33.27801419, 40.97011871, 38.45897128, 42.21285784, 60.58950993,\n",
       "       41.47511852, 32.90100182, 51.55975991, 15.71786716, 38.52734661,\n",
       "       38.08572345, 33.90792636, 42.31889235, 32.04091499, 40.69521084,\n",
       "       39.38844009, 38.736444  , 44.53073825, 32.29753106, 24.02348811,\n",
       "       32.55454013, 32.83557055, 30.13494132, 36.0307816 , 19.38606564,\n",
       "       32.38408788, 31.10383437, 30.33831606, 43.5825088 , 12.60722724,\n",
       "       25.1488991 , 34.47396547, 33.18737568, 25.44459467, 25.90845344,\n",
       "       18.08491411, 39.03544906, 20.65857633, 34.42928743,  9.65036115,\n",
       "       13.91008177, 32.05704872, 23.71663682, 29.6441792 , 49.06020947,\n",
       "       51.50066493, 42.02111456, 43.09218105, 13.72750853, 36.78496492,\n",
       "       29.77934407, 56.52666228, 12.20130514, 23.80824749, 13.38765202,\n",
       "       40.48387955, 45.68263891, 46.28433772, 23.82037538, 26.1358771 ,\n",
       "       15.36806151, 43.67036184, 36.90218044, 41.47762131, 28.89315368,\n",
       "       45.37879373, 27.43015455, 10.6177994 , 27.69518913, 29.42804226,\n",
       "       10.28574086, 33.91546234, 37.22316829, 28.76236008, 29.43777766,\n",
       "       32.80396497, 32.67570864, 24.96599491, 22.77580545, 31.39978504,\n",
       "       15.5176847 , 25.78938783, 29.45840679, 25.6537748 , 28.56905169,\n",
       "       30.13593417, 37.12781376, 19.18467659, 32.36543066, 31.08206761,\n",
       "       29.57721729, 42.46397189, 12.60935083, 25.0711331 , 34.50049651,\n",
       "       33.19051969, 25.18293853, 25.87885424, 17.93908994, 38.3235444 ,\n",
       "       20.23303864, 34.18395808,  9.65058178, 13.99696954, 32.06688755,\n",
       "       23.69269821, 29.77333184, 48.63361688, 51.63170673, 41.45893651,\n",
       "       43.10114424, 13.70653467, 36.76476327, 29.86671447, 56.52902029,\n",
       "       12.13554981, 23.56979911, 13.38795539, 40.67729826, 45.95742268,\n",
       "       46.20697162, 23.98645635, 25.93279194, 15.36997826, 43.67163737,\n",
       "       36.73029407, 41.44322336, 28.76237387, 45.27362106, 27.43258151,\n",
       "       10.59366774, 26.32029125, 29.75019992, 10.23336827, 34.05954903,\n",
       "       37.52477267, 33.86137294, 18.14283699, 20.87416169, 35.00201446,\n",
       "       38.9514433 , 15.45390817, 35.3843289 , 40.18628792, 29.17256383,\n",
       "       27.00565797, 45.32656593, 30.53576819, 15.46114077, 41.74427616,\n",
       "       52.45074217, 56.15513124, 64.10798869, 51.76482387, 33.66599613,\n",
       "       19.16828775, 36.01311722, 34.36609006, 40.72781616, 38.6414086 ,\n",
       "       43.03589913, 60.82566925, 41.20620909, 32.99851441, 51.54417776,\n",
       "       15.72012864, 38.46748631, 38.03577091, 33.84730074, 42.32100215,\n",
       "       32.05206381, 41.39834536, 39.17088972, 38.92964897, 44.27874856,\n",
       "       32.11794325, 24.00227293, 32.69904051, 32.6427379 ])"
      ]
     },
     "execution_count": 19,
     "metadata": {},
     "output_type": "execute_result"
    }
   ],
   "source": [
    "import pandas as pd\n",
    "from sklearn.ensemble import RandomForestRegressor\n",
    "import pickle\n",
    "import datetime\n",
    "\n",
    "# Read the train and test data\n",
    "TRAIN_DATA_REG = \"data/concrete_train.csv\"  # 14 features\n",
    "TEST_DATA_REG = \"data/concrete_test.csv\"  # 13 features - target is removed\n",
    "\n",
    "reg_X_train = pd.read_csv(TRAIN_DATA_REG)\n",
    "reg_Y_train = reg_X_train.pop('/content/mlops-examples/drum_overview/concrete_compressive_strength')\n",
    "\n",
    "reg_X_test = pd.read_csv(TEST_DATA_REG)\n",
    "\n",
    "# Fit the model\n",
    "rf = RandomForestRegressor()\n",
    "rf.fit(reg_X_train, reg_Y_train)\n",
    "\n",
    "# Pickle the file and write it to the file system\n",
    "with open(\"custom_model_reg/reg_rf_model.pkl\", 'wb') as pkl:\n",
    "    pickle.dump(rf, pkl)\n",
    "    \n",
    "# Call predict to confirm it works\n",
    "rf.predict(reg_X_test)"
   ]
  },
  {
   "cell_type": "markdown",
   "metadata": {},
   "source": [
    "## Testing the Model\n",
    "\n",
    "Input the prediction dataset that includes all features except the target feature."
   ]
  },
  {
   "cell_type": "code",
   "execution_count": null,
   "metadata": {},
   "outputs": [],
   "source": [
    "%%sh \n",
    "drum perf-test --code-dir /content/mlops-examples/drum_overview/custom_model_reg --input /content/mlops-examples/MLOps_DRUM/data/concrete_test.csv  --target-type regression"
   ]
  },
  {
   "cell_type": "markdown",
   "metadata": {},
   "source": [
    "## Validating the Model"
   ]
  },
  {
   "cell_type": "code",
   "execution_count": 6,
   "metadata": {},
   "outputs": [],
   "source": [
    "%%sh \n",
    "drum validation --code-dir /content/mlops-examples/drum_overview/custom_model_reg \\\n",
    "--input /content/mlops-examples/drum_overview/data/concrete_test.csv \\\n",
    "--target-type regression > drum_validation.log"
   ]
  },
  {
   "cell_type": "code",
   "execution_count": 7,
   "metadata": {},
   "outputs": [
    {
     "name": "stdout",
     "output_type": "stream",
     "text": [
      "\n",
      "\n",
      "Validation checks results\n",
      "      Test case          Status   Details\n",
      "=========================================\n",
      "Basic batch prediction   PASSED          \n",
      "Null value imputation    PASSED          \n"
     ]
    }
   ],
   "source": [
    "%%sh\n",
    "tail drum_validation.log"
   ]
  },
  {
   "cell_type": "markdown",
   "metadata": {},
   "source": [
    "# Batch Scoring with DRUM\n",
    "<a id=\"setup_complete\"></a>\n",
    "\n",
    "At this point our model has been written to disk and we want to start making predictions with it.  To do this, we'll leverage DRUM and it's ability to natively handle our scikit learn model, all we need to do is tell DRUM where it resides as well as the data we wish to score.  \n",
    "\n",
    "There are a lot of frameworks which DRUM supports nateively, but for those which DRUM doesn't support of these shelf, we'll just need to create some custom hooks so DRUM.  In this example, we'll highlight some very simple custom hooks, and will provide links to more complex examples.  "
   ]
  },
  {
   "cell_type": "code",
   "execution_count": 10,
   "metadata": {},
   "outputs": [],
   "source": [
    "%%sh \n",
    "drum score --code-dir /content/mlops-examples/drum_overview/custom_model_reg \\\n",
    "--input /content/mlops-examples/drum_overview/data/concrete_test.csv \\\n",
    "--output /content/mlops-examples/drum_overview/data/predictions.csv --target-type regression"
   ]
  },
  {
   "cell_type": "code",
   "execution_count": 11,
   "metadata": {},
   "outputs": [
    {
     "data": {
      "text/html": [
       "<div>\n",
       "<style scoped>\n",
       "    .dataframe tbody tr th:only-of-type {\n",
       "        vertical-align: middle;\n",
       "    }\n",
       "\n",
       "    .dataframe tbody tr th {\n",
       "        vertical-align: top;\n",
       "    }\n",
       "\n",
       "    .dataframe thead th {\n",
       "        text-align: right;\n",
       "    }\n",
       "</style>\n",
       "<table border=\"1\" class=\"dataframe\">\n",
       "  <thead>\n",
       "    <tr style=\"text-align: right;\">\n",
       "      <th></th>\n",
       "      <th>Predictions</th>\n",
       "    </tr>\n",
       "  </thead>\n",
       "  <tbody>\n",
       "    <tr>\n",
       "      <th>0</th>\n",
       "      <td>25.941</td>\n",
       "    </tr>\n",
       "    <tr>\n",
       "      <th>1</th>\n",
       "      <td>22.129</td>\n",
       "    </tr>\n",
       "    <tr>\n",
       "      <th>2</th>\n",
       "      <td>34.559</td>\n",
       "    </tr>\n",
       "    <tr>\n",
       "      <th>3</th>\n",
       "      <td>33.845</td>\n",
       "    </tr>\n",
       "    <tr>\n",
       "      <th>4</th>\n",
       "      <td>35.273</td>\n",
       "    </tr>\n",
       "  </tbody>\n",
       "</table>\n",
       "</div>"
      ],
      "text/plain": [
       "   Predictions\n",
       "0       25.941\n",
       "1       22.129\n",
       "2       34.559\n",
       "3       33.845\n",
       "4       35.273"
      ]
     },
     "execution_count": 11,
     "metadata": {},
     "output_type": "execute_result"
    }
   ],
   "source": [
    "pd.read_csv(\"/content/mlops-examples/drum_overview/data/predictions.csv\").head()"
   ]
  },
  {
   "cell_type": "markdown",
   "metadata": {},
   "source": [
    "# Start the inference server locally\n",
    "\n",
    "Batch scoring can be very useful, but the utility DRUM offers does not stop there.  We can also leverage DRUM to serve our model as a RESTful API endpoint.  The only thing that changes is the way we will structure the command - using the `server` mode instead of `score` model.  We'll also need to provide an address which is NOT in use.  \n",
    "\n",
    "When starting the server, we'll use `subprocess.Popen` so we may interact with the server in this notebook"
   ]
  },
  {
   "cell_type": "code",
   "execution_count": 13,
   "metadata": {},
   "outputs": [],
   "source": [
    "import subprocess\n",
    "import requests\n",
    "import pandas as pd\n",
    "from io import BytesIO\n",
    "import yaml\n",
    "import time\n",
    "import os\n",
    "import datarobot as dr\n",
    "from pprint import pprint"
   ]
  },
  {
   "cell_type": "code",
   "execution_count": 15,
   "metadata": {},
   "outputs": [],
   "source": [
    "run_inference_server = [\"drum\",\n",
    "              \"server\",\n",
    "              \"--code-dir\",\"/content/mlops-examples/drum_overview/custom_model_reg\", \n",
    "              \"--address\", \"0.0.0.0:6789\", \n",
    "              \"--show-perf\",\n",
    "              \"--target-type\", \"regression\",\n",
    "              \"--logging-level\", \"info\",\n",
    "              \"--show-stacktrace\",\n",
    "              \"--verbose\"\n",
    "              ]"
   ]
  },
  {
   "cell_type": "code",
   "execution_count": 16,
   "metadata": {},
   "outputs": [],
   "source": [
    "inference_server = subprocess.Popen(run_inference_server, stdout=subprocess.PIPE)"
   ]
  },
  {
   "cell_type": "code",
   "execution_count": 1,
   "metadata": {},
   "outputs": [],
   "source": [
    "## confirm the server is running\n",
    "time.sleep(10) ## snoozing before pinging the server to give it time to actually start\n",
    "print('check status')\n",
    "requests.request(\"GET\", \"http://0.0.0.0:6789\").content"
   ]
  },
  {
   "cell_type": "markdown",
   "metadata": {},
   "source": [
    "## Send data to server for inference\n",
    "\n",
    "The request must provide our dataset as form data.  In order to do so, we'll create a simple python function to pass the data over appropriately.  We'll leverage the same function in our simple flask app a little later.  "
   ]
  },
  {
   "cell_type": "code",
   "execution_count": null,
   "metadata": {},
   "outputs": [],
   "source": [
    "def score(data, port = \"6789\"):\n",
    "    b_buf = BytesIO()\n",
    "    b_buf.write(data.to_csv(index=False).encode(\"utf-8\"))\n",
    "    b_buf.seek(0)\n",
    "  \n",
    "    url = \"http://localhost:{}/predict/\".format(port)\n",
    "    files = [\n",
    "        ('X', b_buf)\n",
    "    ]\n",
    "    response = requests.request(\"POST\", url, files = files, timeout=None, verify=False)\n",
    "    return response"
   ]
  },
  {
   "cell_type": "code",
   "execution_count": null,
   "metadata": {},
   "outputs": [],
   "source": [
    "# %%timeit\n",
    "scoring_data = pd.read_csv(\"/content/mlops-examples/drum_overview/data/concrete_test.csv\")\n",
    "predictions = score(scoring_data).json() ## score entire dataset but only show first 5 records\n",
    "pprint(predictions)"
   ]
  },
  {
   "cell_type": "code",
   "execution_count": null,
   "metadata": {},
   "outputs": [],
   "source": [
    "requests.request(\"GET\", \"http://0.0.0.0:6789/\").content"
   ]
  },
  {
   "cell_type": "code",
   "execution_count": null,
   "metadata": {},
   "outputs": [],
   "source": [
    "inference_server.terminate()\n",
    "inference_server.stdout.readlines()"
   ]
  },
  {
   "cell_type": "code",
   "execution_count": null,
   "metadata": {},
   "outputs": [],
   "source": [
    "#Stop the flask server\n",
    "%%sh\n",
    "fuser -n tcp -k 6789"
   ]
  },
  {
   "cell_type": "markdown",
   "metadata": {},
   "source": [
    "## Value Prop\n",
    "\n",
    "One may ask, what is the benefit to be had here?  Well, first of, there is not need for me to write an api to get the model up and running.  Second, DRUM allows me to abstract the framework away (provided I'm using one that is natively supported, or I can write enough python so that DRUM understands how to hook up to the model.  \n",
    "\n",
    "For example, I could hot swap models as I see fit\n",
    "\n",
    "While we will run through several other frameworks with in `score` you can bet they are supported in `server` mode as well!"
   ]
  }
 ],
 "metadata": {
  "kernelspec": {
   "display_name": "Python 3",
   "language": "python",
   "name": "python3"
  },
  "language_info": {
   "codemirror_mode": {
    "name": "ipython",
    "version": 3
   },
   "file_extension": ".py",
   "mimetype": "text/x-python",
   "name": "python",
   "nbconvert_exporter": "python",
   "pygments_lexer": "ipython3",
   "version": "3.8.5"
  }
 },
 "nbformat": 4,
 "nbformat_minor": 2
}