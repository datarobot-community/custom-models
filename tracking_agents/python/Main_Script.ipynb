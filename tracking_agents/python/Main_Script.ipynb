{
 "cells": [
  {
   "cell_type": "markdown",
   "metadata": {
    "id": "9aXASI5ZXB4x"
   },
   "source": [
    "[![Open In Colab](https://colab.research.google.com/assets/colab-badge.svg)](https://colab.research.google.com/github/datarobot-community/custom-models/blob/master/tracking_agents/python/Main_Script.ipynb)"
   ]
  },
  {
   "cell_type": "markdown",
   "metadata": {
    "id": "3jf0AQE2sOKG"
   },
   "source": [
    "## MLOps Agent - Python End to End\n",
    "\n",
    "**Original Author**: Matthew Cohen\n",
    "\n",
    "**Modified by**: Rodrigo Miranda, Mandie Quartly\n",
    "\n",
    "#### Scope\n",
    "The scope of this Notebook is to provide instructions on how to use DataRobot's MLOps Agents. \n",
    "\n",
    "#### Tested With\n",
    "- Python 3.7.13\n",
    "- MLOps Agent 8.0.7\n",
    "\n",
    "Your version might be different but the below procedure should remain the same."
   ]
  },
  {
   "cell_type": "code",
   "execution_count": 2,
   "metadata": {
    "colab": {
     "base_uri": "https://localhost:8080/"
    },
    "id": "8C-HIQhIsOKG",
    "outputId": "4737d57a-f4a2-4b74-f2cb-ae564927aeae"
   },
   "outputs": [
    {
     "name": "stdout",
     "output_type": "stream",
     "text": [
      "Cloning into 'custom-models'...\n",
      "remote: Enumerating objects: 1407, done.\u001b[K\n",
      "remote: Counting objects: 100% (157/157), done.\u001b[K\n",
      "remote: Compressing objects: 100% (20/20), done.\u001b[K\n",
      "remote: Total 1407 (delta 142), reused 137 (delta 137), pack-reused 1250\u001b[K\n",
      "Receiving objects: 100% (1407/1407), 110.29 MiB | 13.58 MiB/s, done.\n",
      "Resolving deltas: 100% (637/637), done.\n",
      "Checking out files: 100% (196/196), done.\n"
     ]
    }
   ],
   "source": [
    "#Clone the repository\n",
    "!git clone https://github.com/datarobot-community/custom-models"
   ]
  },
  {
   "cell_type": "code",
   "execution_count": null,
   "metadata": {
    "colab": {
     "base_uri": "https://localhost:8080/",
     "height": 1000
    },
    "id": "Kr9DuEC9sOKH",
    "outputId": "4f9ec21d-5c44-44c2-9b62-716f50123440"
   },
   "outputs": [],
   "source": [
    "#Install needed packages\n",
    "!pip install datarobot-mlops-connected-client\n",
    "!pip install -r ./custom-models/tracking_agents/python/requirements.txt"
   ]
  },
  {
   "cell_type": "markdown",
   "metadata": {
    "id": "4SGP8V1KsOKH"
   },
   "source": [
    "### Configuring the Agent\n",
    "\n",
    "To configure the agent, we just need to define the DataRobot MLOps location and our API token. By default, the agent expects the data to be spooled on the local file system.\n",
    "\n",
    "The `token` needs to be your personal token found under Developer Tools in your DataRobot instance. The endpoint specified below is the DataRobot trial endpoint but you should change it if needed.\n"
   ]
  },
  {
   "cell_type": "code",
   "execution_count": 1,
   "metadata": {
    "id": "GIU2sXgNsOKI"
   },
   "outputs": [],
   "source": [
    "import datarobot as dr\n",
    "import os"
   ]
  },
  {
   "cell_type": "code",
   "execution_count": null,
   "metadata": {
    "id": "mVcex783xwzY"
   },
   "outputs": [],
   "source": [
    "token = \"YOUR_API_TOKEN\"\n",
    "endpoint = \"https://app2.datarobot.com\"\n",
    "## connect to DataRobot platform with python client. \n",
    "client = dr.Client(token, \"{}/api/v2\".format(endpoint))"
   ]
  },
  {
   "cell_type": "code",
   "execution_count": 3,
   "metadata": {
    "id": "N5C3tMO0zI9u"
   },
   "outputs": [],
   "source": [
    "mlops_agents_tb = client.get(\"mlopsInstaller\")\n",
    "with open(\"./custom-models/tracking_agents/python/mlops-agent.tar.gz\", \"wb\") as f:\n",
    "     f.write(mlops_agents_tb.content)"
   ]
  },
  {
   "cell_type": "markdown",
   "metadata": {
    "id": "1rhk-15gsOKJ"
   },
   "source": [
    "Once it is downloaded... and saved to your local filesystem, open/uncompress the file"
   ]
  },
  {
   "cell_type": "code",
   "execution_count": 4,
   "metadata": {
    "id": "mslJusHBsOKJ"
   },
   "outputs": [],
   "source": [
    "!tar -xf ./custom-models/tracking_agents/python/mlops-agent.tar.gz"
   ]
  },
  {
   "cell_type": "code",
   "execution_count": 5,
   "metadata": {
    "colab": {
     "base_uri": "https://localhost:8080/"
    },
    "id": "JZAmI-SeEn-b",
    "outputId": "b256484f-21f9-4783-e68a-2a500c3d56c8"
   },
   "outputs": [
    {
     "name": "stdout",
     "output_type": "stream",
     "text": [
      "datarobot_mlops_package-8.0.7\n",
      "8.0.7\n"
     ]
    }
   ],
   "source": [
    "#Save the details of the folder where the whl file is saved\n",
    "with os.popen(\"ls .\") as pipe:\n",
    "    for line in pipe:\n",
    "        if line.startswith('datarobot_mlops_package'):\n",
    "            mlops_package = line.strip()\n",
    "            version = line.strip()[-5:]\n",
    "print(mlops_package)\n",
    "print(version)"
   ]
  },
  {
   "cell_type": "code",
   "execution_count": 6,
   "metadata": {
    "colab": {
     "base_uri": "https://localhost:8080/"
    },
    "id": "ygVKnwyOsOKK",
    "outputId": "321735fc-2857-4fa4-826a-3ee77a56fc34"
   },
   "outputs": [
    {
     "data": {
      "text/plain": [
       "0"
      ]
     },
     "execution_count": 6,
     "metadata": {},
     "output_type": "execute_result"
    }
   ],
   "source": [
    "#Execute command and install mlops-agent\n",
    "os.system('pip install ./{}/lib/datarobot_mlops-{}-py2.py3-none-any.whl'.format(mlops_package, version))"
   ]
  },
  {
   "cell_type": "markdown",
   "metadata": {
    "id": "Ap3ixaqvYp9R"
   },
   "source": [
    "If the installation of datarobot-mlops-connected-client in the cell above asks you to restart the runtime, you want to set up variables with package versions again: "
   ]
  },
  {
   "cell_type": "markdown",
   "metadata": {
    "id": "R8lsUYwXsOKK"
   },
   "source": [
    "### Open Quick Start\n",
    "\n",
    "As noted in comment code from the Deployment Integrations tab above, open to get started with the agent software configuration steps: `.../{agent install dir}/docs/html/index.html`\n",
    "\n",
    "Edit `.../{agent install dir}/conf/mlops.agent.conf.yaml` to use this (everything else can stay as default if you want).  This file contains the properties used by the MLOps service. Namely, the DataRobot host url, your authentication token and the spool to use queue data to send to MLOps. See example details in the next cell.\n",
    "\n",
    "Ensure you create the directory which you choose to use as the spooler (by default this will be `/tmp/ta`). We will actually use `./tmp/ta` in this instance."
   ]
  },
  {
   "cell_type": "code",
   "execution_count": null,
   "metadata": {
    "id": "4ZIukatfsOKK"
   },
   "outputs": [],
   "source": [
    "\"\"\"\n",
    "# Set your DR host:\n",
    "mlopsURL: \"https://app2.datarobot.com\"\n",
    "\n",
    "# Set your API token\n",
    "apiToken: \"NWQ1NDA3ZTdmNTU1Y2Q......\"\n",
    "\n",
    "# Create the spool directory on your system that you want MLOps to use, eg /tmp/ta\n",
    "channelConfigs:\n",
    "  - type: \"FS_SPOOL\"\n",
    "    details: {name: \"bench\", spoolDirectoryPath: \"./tmp/ta\"}\n",
    "\"\"\""
   ]
  },
  {
   "cell_type": "code",
   "execution_count": null,
   "metadata": {
    "id": "EA-Ezxk8881N"
   },
   "outputs": [],
   "source": [
    "# Create spooler directory for use\n",
    "\n",
    "!mkdir -p ./tmp/ta"
   ]
  },
  {
   "cell_type": "markdown",
   "metadata": {
    "id": "9hh6FfJMsOKL"
   },
   "source": [
    "### Commands to get you started \n",
    "\n",
    "This will allow you to start, get status, and stop the MLOps agent service. You will only need to run start for now.  Run status if you want to check on the service."
   ]
  },
  {
   "cell_type": "code",
   "execution_count": 12,
   "metadata": {
    "colab": {
     "base_uri": "https://localhost:8080/"
    },
    "id": "9q4s209tsOKL",
    "outputId": "e9696874-0dad-4406-acf3-7a3563d73b7a"
   },
   "outputs": [
    {
     "name": "stdout",
     "output_type": "stream",
     "text": [
      "INFO: AGENT_CONFIG_YAML=/content/datarobot_mlops_package-8.0.7/conf/mlops.agent.conf.yaml\n",
      "INFO: AGENT_LOG_PROPERTIES=/content/datarobot_mlops_package-8.0.7/conf/mlops.log4j2.properties\n",
      "INFO: AGENT_JVM_OPT=-Xmx1G\n",
      "INFO: AGENT_JAR_PATH=/content/datarobot_mlops_package-8.0.7/lib/mlops-agent-8.0.7.jar\n",
      "INFO: AGENT_LOG_PATH=/content/datarobot_mlops_package-8.0.7/logs/mlops.agent.log\n",
      "\n",
      "Starting MLOps-Agent\n",
      "\n",
      "\n",
      "DataRobot MLOps-Agent is running.\n"
     ]
    }
   ],
   "source": [
    "#!rm ./datarobot_mlops_package-8.0.7/bin/PID.agent\n",
    "!bash ./datarobot_mlops_package-8.0.7/bin/start-agent.sh      #Change version based on the downloaded file"
   ]
  },
  {
   "cell_type": "code",
   "execution_count": 13,
   "metadata": {
    "colab": {
     "base_uri": "https://localhost:8080/"
    },
    "id": "vZ6VxbUV7nns",
    "outputId": "5cd790f8-8d28-418e-9f1d-e2c6267ee27c"
   },
   "outputs": [
    {
     "name": "stdout",
     "output_type": "stream",
     "text": [
      "DataRobot MLOps-Agent is running as a service.\n"
     ]
    }
   ],
   "source": [
    "!bash ./datarobot_mlops_package-8.0.7/bin/status-agent.sh"
   ]
  },
  {
   "cell_type": "code",
   "execution_count": null,
   "metadata": {
    "id": "f4UzbTaesOKL",
    "scrolled": true
   },
   "outputs": [],
   "source": [
    "# Shutdown - DON'T RUN THIS CELL, IT'S JUST SHOWING YOU HOW TO SHUTDOWN\n",
    "# !bash ./datarobot_mlops_package-6.3.3/bin/stop-agent.sh"
   ]
  },
  {
   "cell_type": "markdown",
   "metadata": {
    "id": "TtuvlvntsOKL"
   },
   "source": [
    "## Create an MLOps Model Package for a model and deploy it"
   ]
  },
  {
   "cell_type": "markdown",
   "metadata": {
    "id": "wejw-xuLsOKL"
   },
   "source": [
    "### Train a simple RandomForestClassifier model to use for this example"
   ]
  },
  {
   "cell_type": "code",
   "execution_count": 14,
   "metadata": {
    "colab": {
     "base_uri": "https://localhost:8080/"
    },
    "id": "8B9Uy1zqsOKL",
    "outputId": "81b2dc56-b101-4930-9aea-bda8aaaed6bb"
   },
   "outputs": [
    {
     "data": {
      "text/plain": [
       "RandomForestClassifier(max_depth=2, n_estimators=10, random_state=0)"
      ]
     },
     "execution_count": 14,
     "metadata": {},
     "output_type": "execute_result"
    }
   ],
   "source": [
    "import pandas as pd\n",
    "import numpy as np\n",
    "import time\n",
    "import csv\n",
    "import pytz\n",
    "import json\n",
    "import yaml\n",
    "import datetime\n",
    "from sklearn.ensemble import RandomForestClassifier\n",
    "\n",
    "TRAINING_DATA = './{}/examples/data/mlops-example-surgical-dataset.csv'.format(mlops_package)\n",
    "\n",
    "df = pd.read_csv(TRAINING_DATA)\n",
    "\n",
    "columns = list(df.columns)\n",
    "arr = df.to_numpy()\n",
    "\n",
    "np.random.shuffle(arr)\n",
    "\n",
    "split_ratio = 0.8\n",
    "prediction_threshold = 0.5\n",
    "\n",
    "train_data_len = int(arr.shape[0] * split_ratio)\n",
    "\n",
    "train_data = arr[:train_data_len, :-1]\n",
    "label = arr[:train_data_len, -1]\n",
    "test_data = arr[train_data_len:, :-1]\n",
    "test_df = df[train_data_len:]\n",
    "\n",
    "# train the model\n",
    "clf = RandomForestClassifier(n_estimators=10, max_depth=2, random_state=0)\n",
    "clf.fit(train_data, label)"
   ]
  },
  {
   "cell_type": "markdown",
   "metadata": {
    "id": "VjIs-NQcsOKM"
   },
   "source": [
    "### Create empty deployment in DataRobot MLOps\n",
    "\n",
    "Using the MLOps client, create a new model package to represent the random forest model we just created.  This includes uploading the traning data and enabling data drift."
   ]
  },
  {
   "cell_type": "code",
   "execution_count": 15,
   "metadata": {
    "colab": {
     "base_uri": "https://localhost:8080/"
    },
    "id": "O8--wWUI1ye4",
    "outputId": "c532e23e-3530-44e7-d878-ad0c8fe5238b"
   },
   "outputs": [
    {
     "name": "stdout",
     "output_type": "stream",
     "text": [
      "{\n",
      "    \"name\": \"MLOps Example Surgical Model\",\n",
      "    \"modelDescription\": {\n",
      "        \"modelName\": \"Binary Model for Surgical Complications\",\n",
      "        \"description\": \"Binary classification on surgical dataset\",\n",
      "        \"location\": \"/tmp/myModel\"\n",
      "    },\n",
      "    \"target\": {\n",
      "        \"type\": \"Binary\",\n",
      "        \"name\": \"complication\",\n",
      "        \"classNames\": [\"1\",\"0\"],\n",
      "        \"predictionThreshold\": 0.5\n",
      "    }\n",
      "}\n"
     ]
    }
   ],
   "source": [
    "!cat ./datarobot_mlops_package-8.0.7/examples/model_config/surgical_binary_classification.json"
   ]
  },
  {
   "cell_type": "code",
   "execution_count": 16,
   "metadata": {
    "colab": {
     "base_uri": "https://localhost:8080/"
    },
    "id": "8Doo9puAsOKM",
    "outputId": "de91faf9-cdb4-4087-a0f9-aefd58efdc84"
   },
   "outputs": [
    {
     "name": "stdout",
     "output_type": "stream",
     "text": [
      "Uploading training data - ./datarobot_mlops_package-8.0.7/examples/data/mlops-example-surgical-dataset.csv. This may take some time...\n",
      "Training dataset uploaded. Catalog ID 627164ded647bb2488957ec4.\n",
      "Create model package\n",
      "Create Prediction Environment\n",
      "Deploy model package\n",
      "Enable feature drift\n",
      "\n",
      "Done.\n",
      "\n",
      "DEPLOYMENT_ID=6271651326f26a1d12fecf16, MODEL_ID=627165105672217c7e57d313\n"
     ]
    }
   ],
   "source": [
    "from datarobot.mlops.mlops import MLOps\n",
    "# from datarobot.mlops.common.enums import OutputType\n",
    "from datarobot.mlops.connected.client import MLOpsClient\n",
    "from datarobot.mlops.common.exception import DRConnectedException\n",
    "from datarobot.mlops.constants import Constants\n",
    "\n",
    "# Read the model configuration info from the example.  This is used to create the model package.\n",
    "with open('./{}/examples/model_config/surgical_binary_classification.json'.format(mlops_package), \"r\") as f:\n",
    "    model_info = json.loads(f.read())\n",
    "model_info\n",
    "\n",
    "# Read the mlops connection info from the provided example \n",
    "with open('./{}/conf/mlops.agent.conf.yaml'.format(mlops_package)) as file:\n",
    "    # The FullLoader parameter handles the conversion from YAML\n",
    "    # scalar values to Python the dictionary format\n",
    "    agent_yaml_dict = yaml.load(file, Loader=yaml.FullLoader)\n",
    "\n",
    "MLOPS_URL = agent_yaml_dict['mlopsUrl']\n",
    "API_TOKEN = agent_yaml_dict['apiToken']\n",
    "\n",
    "# Create connected client\n",
    "mlops_connected_client = MLOpsClient(MLOPS_URL, API_TOKEN)\n",
    "\n",
    "# Add training_data to model configuration\n",
    "print(\"Uploading training data - {}. This may take some time...\".format(TRAINING_DATA))\n",
    "dataset_id = mlops_connected_client.upload_dataset(TRAINING_DATA)\n",
    "print(\"Training dataset uploaded. Catalog ID {}.\".format(dataset_id))\n",
    "model_info[\"datasets\"] = {\"trainingDataCatalogId\": dataset_id}\n",
    "\n",
    "# Create the model package\n",
    "print('Create model package')\n",
    "model_pkg_id = mlops_connected_client.create_model_package(model_info)\n",
    "model_pkg = mlops_connected_client.get_model_package(model_pkg_id)\n",
    "model_id = model_pkg[\"modelId\"]\n",
    "\n",
    "# Create Prediction Environment (needed for Challengers)\n",
    "print('Create Prediction Environment')\n",
    "predEnv = {\"name\": \"External Prediction Environment / Notebook\",\n",
    "           \"description\": \"Notebook\",\n",
    "           \"platform\": 'gcp',\n",
    "           \"supportedModelFormats\": ['externalModel']\n",
    "           }\n",
    "prediction_environment_id = mlops_connected_client.create_prediction_environment(predEnv)\n",
    "\n",
    "# Deploy the model package\n",
    "print('Deploy model package')\n",
    "\n",
    "# Give the deployment a name:\n",
    "DEPLOYMENT_NAME=\"Python binary classification remote model \" + str(datetime.datetime.now())\n",
    "\n",
    "deployment_id = mlops_connected_client.deploy_model_package(model_pkg[\"id\"],\n",
    "                                                            DEPLOYMENT_NAME,\n",
    "                                                            prediction_environment_id=prediction_environment_id)\n",
    "\n",
    "# Enable data drift tracking\n",
    "print('Enable feature drift')\n",
    "enable_feature_drift = TRAINING_DATA is not None\n",
    "mlops_connected_client.update_deployment_settings(deployment_id, target_drift=True,\n",
    "                                                  feature_drift=enable_feature_drift)\n",
    "_ = mlops_connected_client.get_deployment_settings(deployment_id)\n",
    "\n",
    "print(\"\\nDone.\")\n",
    "print(\"\\nDEPLOYMENT_ID=%s, MODEL_ID=%s\" % (deployment_id, model_id))\n",
    "\n",
    "DEPLOYMENT_ID = deployment_id\n",
    "MODEL_ID = model_id"
   ]
  },
  {
   "cell_type": "markdown",
   "metadata": {
    "id": "veCNKZWYsOKM"
   },
   "source": [
    "## Run Model Predictions\n",
    "\n",
    "### Call the external model's predict fuction and send prediction data to MLOps\n",
    "\n",
    "You can find Deployment and Model ID under `Deployments` --> `Predictions` --> `Monitoring` Tab."
   ]
  },
  {
   "cell_type": "code",
   "execution_count": 18,
   "metadata": {
    "id": "araPw4L9juEu"
   },
   "outputs": [],
   "source": [
    "# variables in case runtime is restarted, replace with your own by copying output from previous cell\n",
    "DEPLOYMENT_ID='6271651326f26a1d12fecf16'\n",
    "MODEL_ID='627165105672217c7e57d313'"
   ]
  },
  {
   "cell_type": "code",
   "execution_count": 19,
   "metadata": {
    "id": "UNcqv8SVatO-"
   },
   "outputs": [],
   "source": [
    "import sys\n",
    "import time\n",
    "import random\n",
    "import pandas as pd\n",
    " \n",
    "from datarobot.mlops.mlops import MLOps\n",
    "\n",
    "CLASS_NAMES = [\"1\", \"0\"]\n",
    "SPOOL_DIR = \"./tmp/ta\"\n",
    "ACTUALS_OUTPUT_FILE = './actuals.csv'"
   ]
  },
  {
   "cell_type": "code",
   "execution_count": 20,
   "metadata": {
    "id": "jh02k6-PduzU"
   },
   "outputs": [],
   "source": [
    "mlops = MLOps() \\\n",
    "        .set_deployment_id(DEPLOYMENT_ID) \\\n",
    "        .set_model_id(MODEL_ID) \\\n",
    "        .set_filesystem_spooler(SPOOL_DIR) \\\n",
    "        .init()"
   ]
  },
  {
   "cell_type": "code",
   "execution_count": 21,
   "metadata": {
    "colab": {
     "base_uri": "https://localhost:8080/"
    },
    "id": "7PkmE5uEbisD",
    "outputId": "bfc60e19-3be6-40bd-93dc-ab6c1d5498e2"
   },
   "outputs": [
    {
     "name": "stdout",
     "output_type": "stream",
     "text": [
      "400\n"
     ]
    }
   ],
   "source": [
    "# Get predictions\n",
    "start_time = time.time()\n",
    "predictions = clf.predict_proba(test_data).tolist()\n",
    "num_predictions = len(predictions)\n",
    "print(num_predictions)\n",
    "end_time = time.time()\n",
    "\n",
    "# Get assocation id's for the predictions so we can track them with the actuals\n",
    "def _generate_unique_association_ids(num_samples):\n",
    "    ts = time.time()\n",
    "    return [\"x_{}_{}\".format(ts, i) for i in range(num_samples)]\n",
    "\n",
    "association_ids = _generate_unique_association_ids(len(test_data))"
   ]
  },
  {
   "cell_type": "code",
   "execution_count": 22,
   "metadata": {
    "colab": {
     "base_uri": "https://localhost:8080/"
    },
    "id": "P7CwPeKHb6S_",
    "outputId": "d5e51116-ec1e-40e3-d2c5-44a1bfad0e26"
   },
   "outputs": [
    {
     "data": {
      "text/plain": [
       "True"
      ]
     },
     "execution_count": 22,
     "metadata": {},
     "output_type": "execute_result"
    }
   ],
   "source": [
    "# MLOPS: report the number of predictions in the request and the execution time.\n",
    "mlops.report_deployment_stats(num_predictions, end_time - start_time)"
   ]
  },
  {
   "cell_type": "code",
   "execution_count": 23,
   "metadata": {
    "colab": {
     "base_uri": "https://localhost:8080/"
    },
    "id": "dHce0eHvcOfo",
    "outputId": "73e0e36f-54d1-40c9-9627-3bbc633ccd51"
   },
   "outputs": [
    {
     "data": {
      "text/plain": [
       "True"
      ]
     },
     "execution_count": 23,
     "metadata": {},
     "output_type": "execute_result"
    }
   ],
   "source": [
    "# MLOPS: report the predictions data: features, predictions, class_names\n",
    "mlops.report_predictions_data(features_df=test_df, \n",
    "                                predictions=predictions, \n",
    "                                class_names=CLASS_NAMES,\n",
    "                                association_ids=association_ids)"
   ]
  },
  {
   "cell_type": "code",
   "execution_count": 24,
   "metadata": {
    "id": "RxbZmqrTc3Zg"
   },
   "outputs": [],
   "source": [
    "# MLOPS: release MLOps resources when finished.\n",
    "mlops.shutdown()"
   ]
  },
  {
   "cell_type": "markdown",
   "metadata": {
    "id": "KCIcey1Pm8LI"
   },
   "source": [
    "### Writing and uploading actuals to MLOps"
   ]
  },
  {
   "cell_type": "code",
   "execution_count": 25,
   "metadata": {
    "colab": {
     "base_uri": "https://localhost:8080/"
    },
    "id": "_9uUGLgQlBZ6",
    "outputId": "41e179e2-321d-4357-f777-3f2c316d5dbe"
   },
   "outputs": [
    {
     "name": "stdout",
     "output_type": "stream",
     "text": [
      "Writing actuals file: ./actuals.csv\n"
     ]
    }
   ],
   "source": [
    "from datarobot.mlops.constants import Constants\n",
    "\n",
    "target_column_name = columns[len(columns) - 1]\n",
    "target_values = []\n",
    "orig_labels = test_df[target_column_name].tolist()\n",
    "\n",
    "print(\"Writing actuals file: %s\" % ACTUALS_OUTPUT_FILE)\n",
    "def write_actuals_file(out_filename, test_data_labels, association_ids):\n",
    "    \"\"\"\n",
    "    Generate a CSV file with the association ids and labels, this example\n",
    "    uses a dataset that has labels already.\n",
    "    In a real use case actuals (labels) will show after prediction is done.\n",
    "\n",
    "    :param out_filename:      name of csv file\n",
    "    :param test_data_labels:  actual values (labels)\n",
    "    :param association_ids:   association id list used for predictions\n",
    "    \"\"\"\n",
    "    with open(out_filename, mode=\"w\") as actuals_csv_file:\n",
    "        writer = csv.writer(actuals_csv_file, delimiter=\",\")\n",
    "        writer.writerow(\n",
    "            [\n",
    "                Constants.ACTUALS_ASSOCIATION_ID_KEY,\n",
    "                Constants.ACTUALS_VALUE_KEY,\n",
    "                Constants.ACTUALS_TIMESTAMP_KEY\n",
    "            ]\n",
    "        )\n",
    "        tz = pytz.timezone(\"America/Los_Angeles\")\n",
    "        for (association_id, label) in zip(association_ids, test_data_labels):\n",
    "            actual_timestamp = datetime.datetime.now().replace(tzinfo=tz).isoformat()\n",
    "            writer.writerow([association_id, \"1\" if label else \"0\", actual_timestamp])\n",
    "\n",
    "\n",
    "# Write csv file with labels and association Id, when output file is provided\n",
    "write_actuals_file(ACTUALS_OUTPUT_FILE, orig_labels, association_ids)"
   ]
  },
  {
   "cell_type": "code",
   "execution_count": 26,
   "metadata": {
    "colab": {
     "base_uri": "https://localhost:8080/"
    },
    "id": "MWd_6uFemeAt",
    "outputId": "988a3fef-68a8-477f-b70e-7925680a8df4"
   },
   "outputs": [
    {
     "name": "stdout",
     "output_type": "stream",
     "text": [
      "Connect MLOps client\n",
      "Submit actuals\n",
      "Done.\n"
     ]
    }
   ],
   "source": [
    "from datarobot.mlops.connected.client import MLOpsClient\n",
    "\n",
    "# Read the mlops connection info from the provided example \n",
    "with open('./{}/conf/mlops.agent.conf.yaml'.format(mlops_package)) as file:\n",
    "    # The FullLoader parameter handles the conversion from YAML\n",
    "    # scalar values to Python the dictionary format\n",
    "    agent_yaml_dict = yaml.load(file, Loader=yaml.FullLoader)\n",
    "\n",
    "MLOPS_URL = agent_yaml_dict['mlopsUrl']\n",
    "API_TOKEN = agent_yaml_dict['apiToken']\n",
    "\n",
    "\n",
    "def _get_correct_actual_value(deployment_type, value):\n",
    "    if deployment_type == \"Regression\":\n",
    "        return float(value)\n",
    "    return str(value)\n",
    "\n",
    "def _get_correct_flag_value(value_str):\n",
    "    if value_str == \"True\":\n",
    "        return True\n",
    "    return False\n",
    "    \n",
    "def upload_actuals():\n",
    "    print(\"Connect MLOps client\")\n",
    "    mlops_connected_client = MLOpsClient(MLOPS_URL, API_TOKEN)\n",
    "    deployment_type = mlops_connected_client.get_deployment_type(DEPLOYMENT_ID)\n",
    "\n",
    "    actuals = []\n",
    "    with open(ACTUALS_OUTPUT_FILE, mode=\"r\") as actuals_csv_file:\n",
    "        reader = csv.DictReader(actuals_csv_file)\n",
    "        for row in reader:\n",
    "            actual = {}\n",
    "            for key, value in row.items():\n",
    "                if key == Constants.ACTUALS_WAS_ACTED_ON_KEY:\n",
    "                    value = _get_correct_flag_value(value)\n",
    "                if key == Constants.ACTUALS_VALUE_KEY:\n",
    "                    value = _get_correct_actual_value(deployment_type, value)\n",
    "                actual[key] = value\n",
    "            actuals.append(actual)\n",
    "\n",
    "            if len(actuals) == 10000:\n",
    "                mlops_connected_client.submit_actuals(DEPLOYMENT_ID, actuals)\n",
    "                actuals = []\n",
    "\n",
    "    # Submit the actuals\n",
    "    print(\"Submit actuals\")\n",
    "    mlops_connected_client.submit_actuals(DEPLOYMENT_ID, actuals)\n",
    "    \n",
    "    print(\"Done.\")    \n",
    "\n",
    "upload_actuals()"
   ]
  },
  {
   "cell_type": "code",
   "execution_count": 27,
   "metadata": {
    "colab": {
     "base_uri": "https://localhost:8080/"
    },
    "id": "10u7_dTdn-p6",
    "outputId": "4403dad7-3d1c-4827-ae81-e57faeafb0ab"
   },
   "outputs": [
    {
     "name": "stdout",
     "output_type": "stream",
     "text": [
      "DataRobot MLOps-Agent shutdown done.\n"
     ]
    }
   ],
   "source": [
    "!bash ./datarobot_mlops_package-8.0.7/bin/stop-agent.sh    #Change version based on the downloaded file"
   ]
  },
  {
   "cell_type": "code",
   "execution_count": null,
   "metadata": {
    "id": "D5bIa1zN5bud"
   },
   "outputs": [],
   "source": [
    "# !rm ./datarobot_mlops_package-8.0.7/bin/PID.agent   # Use to remove PID if agent wasn't closed cleanly"
   ]
  }
 ],
 "metadata": {
  "colab": {
   "collapsed_sections": [
    "hL0dsJ6perOE"
   ],
   "name": "220503_MQ_Demo_MLOps_Agent_Python_E2E_Main_Script.ipynb",
   "provenance": []
  },
  "kernelspec": {
   "display_name": "Python 3 (ipykernel)",
   "language": "python",
   "name": "python3"
  },
  "language_info": {
   "codemirror_mode": {
    "name": "ipython",
    "version": 3
   },
   "file_extension": ".py",
   "mimetype": "text/x-python",
   "name": "python",
   "nbconvert_exporter": "python",
   "pygments_lexer": "ipython3",
   "version": "3.9.12"
  }
 },
 "nbformat": 4,
 "nbformat_minor": 1
}
