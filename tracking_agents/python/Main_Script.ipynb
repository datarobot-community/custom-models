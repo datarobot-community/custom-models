{
 "cells": [
  {
   "cell_type": "markdown",
   "metadata": {},
   "source": [
    "[![Open In Colab](https://colab.research.google.com/assets/colab-badge.svg)](https://colab.research.google.com/github/datarobot-community/custom-models/blob/master/tracking_agents/python/Main_Script.ipynb)"
   ]
  },
  {
   "cell_type": "markdown",
   "metadata": {
    "id": "3jf0AQE2sOKG"
   },
   "source": [
    "## MLOps Agent - Python End to End\n",
    "\n",
    "**Original Author**: Matthew Cohen\n",
    "\n",
    "**Modified by**: Rodrigo Miranda, Mandie Quartly\n",
    "\n",
    "#### Scope\n",
    "The scope of this Notebook is to provide instructions on how to use DataRobot's MLOps Agents. \n",
    "\n",
    "#### Tested With\n",
    "- Python 3.7.13\n",
    "- MLOps Agent 8.0.7\n",
    "\n",
    "Your version might be different but the below procedure should remain the same."
   ]
  },
  {
   "cell_type": "code",
   "execution_count": 1,
   "metadata": {
    "colab": {
     "base_uri": "https://localhost:8080/"
    },
    "id": "8C-HIQhIsOKG",
    "outputId": "6d4b4b19-6cc8-4038-f654-88f30fcf1d2f"
   },
   "outputs": [
    {
     "name": "stdout",
     "output_type": "stream",
     "text": [
      "Cloning into 'custom-models'...\n",
      "remote: Enumerating objects: 1407, done.\u001b[K\n",
      "remote: Counting objects: 100% (147/147), done.\u001b[K\n",
      "remote: Compressing objects: 100% (15/15), done.\u001b[K\n",
      "remote: Total 1407 (delta 135), reused 132 (delta 132), pack-reused 1260\u001b[K\n",
      "Receiving objects: 100% (1407/1407), 110.12 MiB | 22.23 MiB/s, done.\n",
      "Resolving deltas: 100% (638/638), done.\n",
      "Checking out files: 100% (196/196), done.\n"
     ]
    }
   ],
   "source": [
    "#Clone the repository\n",
    "!git clone https://github.com/datarobot-community/custom-models"
   ]
  },
  {
   "cell_type": "code",
   "execution_count": null,
   "metadata": {
    "colab": {
     "base_uri": "https://localhost:8080/",
     "height": 1000
    },
    "id": "Kr9DuEC9sOKH",
    "outputId": "50dbf256-4f6f-47b3-c4f2-5f7681406b87"
   },
   "outputs": [],
   "source": [
    "#Install needed packages\n",
    "!pip install datarobot-mlops-connected-client\n",
    "!pip install -r /content/custom-models/tracking_agents/python/requirements.txt"
   ]
  },
  {
   "cell_type": "markdown",
   "metadata": {
    "id": "4SGP8V1KsOKH"
   },
   "source": [
    "### Configuring the Agent\n",
    "\n",
    "To configure the agent, we just need to define the DataRobot MLOps location and our API token. By default, the agent expects the data to be spooled on the local file system. Make sure that default location (`/tmp/ta`) exists.\n",
    "\n",
    "The `token` needs to be your personal token found under Developer Tools in your DataRobot instance. The endpoint specified below is the DataRobot trial endpoint but you should change it if needed.\n"
   ]
  },
  {
   "cell_type": "code",
   "execution_count": 4,
   "metadata": {
    "id": "GIU2sXgNsOKI"
   },
   "outputs": [],
   "source": [
    "import datarobot as dr\n",
    "import os"
   ]
  },
  {
   "cell_type": "code",
   "execution_count": 5,
   "metadata": {
    "id": "mVcex783xwzY"
   },
   "outputs": [],
   "source": [
    "token = \"YOUR_API_TOKEN\"\n",
    " endpoint = \"https://app2.datarobot.com\"\n",
    "## connect to DataRobot platform with python client. \n",
    "client = dr.Client(token, \"{}/api/v2\".format(endpoint))"
   ]
  },
  {
   "cell_type": "code",
   "execution_count": 6,
   "metadata": {
    "id": "N5C3tMO0zI9u"
   },
   "outputs": [],
   "source": [
    "mlops_agents_tb = client.get(\"mlopsInstaller\")\n",
    "with open(\"/content/custom-models/tracking_agents/python/mlops-agent.tar.gz\", \"wb\") as f:\n",
    "     f.write(mlops_agents_tb.content)"
   ]
  },
  {
   "cell_type": "markdown",
   "metadata": {
    "id": "1rhk-15gsOKJ"
   },
   "source": [
    "Once it is downloaded... and saved to your local filesystem, open/uncompress the file"
   ]
  },
  {
   "cell_type": "code",
   "execution_count": 7,
   "metadata": {
    "id": "mslJusHBsOKJ"
   },
   "outputs": [],
   "source": [
    "!tar -xf /content/custom-models/tracking_agents/python/mlops-agent.tar.gz"
   ]
  },
  {
   "cell_type": "code",
   "execution_count": 9,
   "metadata": {
    "colab": {
     "base_uri": "https://localhost:8080/"
    },
    "id": "JZAmI-SeEn-b",
    "outputId": "dbccec1f-e032-4b35-9888-f6966f9ff86a"
   },
   "outputs": [
    {
     "name": "stdout",
     "output_type": "stream",
     "text": [
      "datarobot_mlops_package-8.0.7\n",
      "8.0.7\n"
     ]
    }
   ],
   "source": [
    "#Save the details of the folder where the whl file is saved\n",
    "with os.popen(\"ls /content\") as pipe:\n",
    "    for line in pipe:\n",
    "        if line.startswith('datarobot_mlops_package'):\n",
    "            mlops_package = line.strip()\n",
    "            version = line.strip()[-5:]\n",
    "print(mlops_package)\n",
    "print(version)"
   ]
  },
  {
   "cell_type": "code",
   "execution_count": 10,
   "metadata": {
    "colab": {
     "base_uri": "https://localhost:8080/"
    },
    "id": "ygVKnwyOsOKK",
    "outputId": "2fa3d93a-76d6-414c-c18b-b1ab07776139"
   },
   "outputs": [
    {
     "data": {
      "text/plain": [
       "0"
      ]
     },
     "execution_count": 10,
     "metadata": {},
     "output_type": "execute_result"
    }
   ],
   "source": [
    "#Execute command and install mlops-agent\n",
    "os.system('pip install /content/{}/lib/datarobot_mlops-{}-py2.py3-none-any.whl'.format(mlops_package, version))"
   ]
  },
  {
   "cell_type": "markdown",
   "metadata": {
    "id": "Ap3ixaqvYp9R"
   },
   "source": [
    "If the installation of datarobot-mlops-connected-client in the cell above asks you to restart the runtime, you want to set up variables with package versions again: "
   ]
  },
  {
   "cell_type": "markdown",
   "metadata": {
    "id": "R8lsUYwXsOKK"
   },
   "source": [
    "### Open Quick Start\n",
    "\n",
    "As noted in comment code from the Deployment Integrations tab above, open to get started with the agent software configuration steps: `.../{agent install dir}/docs/html/index.html`\n",
    "\n",
    "Edit `.../{agent install dir}/conf/mlops.agent.conf.yaml` to use this (everything else can stay as default if you want).  This file contains the properties used by the MLOps service. Namely, the DataRobot host url, your authentication token and the spool to use queue data to send to MLOps."
   ]
  },
  {
   "cell_type": "code",
   "execution_count": null,
   "metadata": {
    "id": "4ZIukatfsOKK"
   },
   "outputs": [],
   "source": [
    "\"\"\"\n",
    "# Set your DR host:\n",
    "mlopsURL: \"https://app2.datarobot.com\"\n",
    "\n",
    "# Set your API token\n",
    "apiToken: \"NWQ1NDA3ZTdmNTU1Y2Q......\"\n",
    "\n",
    "# Create the spool directory on your system that you want MLOps to use, eg /tmp/ta\n",
    "channelConfigs:\n",
    "  - type: \"FS_SPOOL\"\n",
    "    details: {name: \"bench\", spoolDirectoryPath: \"/tmp/ta\"}\n",
    "\"\"\""
   ]
  },
  {
   "cell_type": "markdown",
   "metadata": {
    "id": "9hh6FfJMsOKL"
   },
   "source": [
    "### Commands to get you started \n",
    "\n",
    "This will allow you to start, get status, and stop the MLOps agent service. You will only need to run start for now.  Run status if you want to check on the service."
   ]
  },
  {
   "cell_type": "code",
   "execution_count": 14,
   "metadata": {
    "colab": {
     "base_uri": "https://localhost:8080/"
    },
    "id": "9q4s209tsOKL",
    "outputId": "f32855d2-632f-4bdc-9e8f-eaaa6f872acb"
   },
   "outputs": [
    {
     "name": "stdout",
     "output_type": "stream",
     "text": [
      "INFO: AGENT_CONFIG_YAML=/content/datarobot_mlops_package-8.0.7/conf/mlops.agent.conf.yaml\n",
      "INFO: AGENT_LOG_PROPERTIES=/content/datarobot_mlops_package-8.0.7/conf/mlops.log4j2.properties\n",
      "INFO: AGENT_JVM_OPT=-Xmx1G\n",
      "INFO: AGENT_JAR_PATH=/content/datarobot_mlops_package-8.0.7/lib/mlops-agent-8.0.7.jar\n",
      "INFO: AGENT_LOG_PATH=/content/datarobot_mlops_package-8.0.7/logs/mlops.agent.log\n",
      "\n",
      "Starting MLOps-Agent\n",
      "\n",
      "\n",
      "DataRobot MLOps-Agent is running.\n"
     ]
    }
   ],
   "source": [
    "#!rm /content/datarobot_mlops_package-8.0.7/bin/PID.agent\n",
    "!bash /content/datarobot_mlops_package-8.0.7/bin/start-agent.sh      #Change version based on the downloaded file"
   ]
  },
  {
   "cell_type": "code",
   "execution_count": 15,
   "metadata": {
    "colab": {
     "base_uri": "https://localhost:8080/"
    },
    "id": "vZ6VxbUV7nns",
    "outputId": "bbc5e2b7-1772-4ef2-85ab-5f88efa09f34"
   },
   "outputs": [
    {
     "name": "stdout",
     "output_type": "stream",
     "text": [
      "DataRobot MLOps-Agent is running as a service.\n"
     ]
    }
   ],
   "source": [
    "!bash /content/datarobot_mlops_package-8.0.7/bin/status-agent.sh"
   ]
  },
  {
   "cell_type": "code",
   "execution_count": null,
   "metadata": {
    "id": "f4UzbTaesOKL",
    "scrolled": true
   },
   "outputs": [],
   "source": [
    "# Shutdown - DON'T RUN THIS CELL, IT'S JUST SHOWING YOU HOW TO SHUTDOWN\n",
    "#!bash datarobot_mlops_package-6.3.3/bin/stop-agent.sh"
   ]
  },
  {
   "cell_type": "markdown",
   "metadata": {
    "id": "TtuvlvntsOKL"
   },
   "source": [
    "## Create an MLOps Model Package for a model and deploy it"
   ]
  },
  {
   "cell_type": "markdown",
   "metadata": {
    "id": "wejw-xuLsOKL"
   },
   "source": [
    "### Train a simple RandomForestClassifier model to use for this example"
   ]
  },
  {
   "cell_type": "code",
   "execution_count": null,
   "metadata": {
    "colab": {
     "base_uri": "https://localhost:8080/"
    },
    "id": "8B9Uy1zqsOKL",
    "outputId": "cd4bea6e-0217-4072-f656-caaf33d90c0f"
   },
   "outputs": [
    {
     "data": {
      "text/plain": [
       "RandomForestClassifier(max_depth=2, n_estimators=10, random_state=0)"
      ]
     },
     "execution_count": 24,
     "metadata": {},
     "output_type": "execute_result"
    }
   ],
   "source": [
    "import pandas as pd\n",
    "import numpy as np\n",
    "import time\n",
    "import csv\n",
    "import pytz\n",
    "import json\n",
    "import yaml\n",
    "import datetime\n",
    "from sklearn.ensemble import RandomForestClassifier\n",
    "\n",
    "TRAINING_DATA = '/content/{}/examples/data/mlops-example-surgical-dataset.csv'.format(mlops_package)\n",
    "\n",
    "df = pd.read_csv(TRAINING_DATA)\n",
    "\n",
    "columns = list(df.columns)\n",
    "arr = df.to_numpy()\n",
    "\n",
    "np.random.shuffle(arr)\n",
    "\n",
    "split_ratio = 0.8\n",
    "prediction_threshold = 0.5\n",
    "\n",
    "train_data_len = int(arr.shape[0] * split_ratio)\n",
    "\n",
    "train_data = arr[:train_data_len, :-1]\n",
    "label = arr[:train_data_len, -1]\n",
    "test_data = arr[train_data_len:, :-1]\n",
    "test_df = df[train_data_len:]\n",
    "\n",
    "# train the model\n",
    "clf = RandomForestClassifier(n_estimators=10, max_depth=2, random_state=0)\n",
    "clf.fit(train_data, label)"
   ]
  },
  {
   "cell_type": "markdown",
   "metadata": {
    "id": "VjIs-NQcsOKM"
   },
   "source": [
    "### Create empty deployment in DataRobot MLOps\n",
    "\n",
    "Using the MLOps client, create a new model package to represent the random forest model we just created.  This includes uploading the traning data and enabling data drift."
   ]
  },
  {
   "cell_type": "code",
   "execution_count": null,
   "metadata": {
    "colab": {
     "base_uri": "https://localhost:8080/"
    },
    "id": "O8--wWUI1ye4",
    "outputId": "2914a01e-b6b9-4c7a-cd3c-f72e15a7b5dd"
   },
   "outputs": [
    {
     "name": "stdout",
     "output_type": "stream",
     "text": [
      "{\n",
      "    \"name\": \"MLOps Example Surgical Model\",\n",
      "    \"modelDescription\": {\n",
      "        \"modelName\": \"Binary Model for Surgical Complications\",\n",
      "        \"description\": \"Binary classification on surgical dataset\",\n",
      "        \"location\": \"/tmp/myModel\"\n",
      "    },\n",
      "    \"target\": {\n",
      "        \"type\": \"Binary\",\n",
      "        \"name\": \"complication\",\n",
      "        \"classNames\": [\"1\",\"0\"],\n",
      "        \"predictionThreshold\": 0.5\n",
      "    }\n",
      "}\n"
     ]
    }
   ],
   "source": [
    "!cat /content/datarobot_mlops_package-8.0.7/examples/model_config/surgical_binary_classification.json"
   ]
  },
  {
   "cell_type": "code",
   "execution_count": null,
   "metadata": {
    "colab": {
     "base_uri": "https://localhost:8080/"
    },
    "id": "8Doo9puAsOKM",
    "outputId": "83680fbc-3071-4bf3-dddf-917ce25c9a80"
   },
   "outputs": [
    {
     "name": "stdout",
     "output_type": "stream",
     "text": [
      "Uploading training data - /content/datarobot_mlops_package-8.0.7/examples/data/mlops-example-surgical-dataset.csv. This may take some time...\n",
      "Training dataset uploaded. Catalog ID 62417df534ae96fc63bdc451.\n",
      "Create model package\n",
      "Create Prediction Environment\n",
      "Deploy model package\n",
      "Enable feature drift\n",
      "\n",
      "Done.\n",
      "\n",
      "DEPLOYMENT_ID=62417e32ebe6673cf978b81a, MODEL_ID=62417e304e43c6957ec5dad6\n"
     ]
    }
   ],
   "source": [
    "from datarobot.mlops.mlops import MLOps\n",
    "# from datarobot.mlops.common.enums import OutputType\n",
    "from datarobot.mlops.connected.client import MLOpsClient\n",
    "from datarobot.mlops.common.exception import DRConnectedException\n",
    "from datarobot.mlops.constants import Constants\n",
    "\n",
    "# Read the model configuration info from the example.  This is used to create the model package.\n",
    "with open('/content/{}/examples/model_config/surgical_binary_classification.json'.format(mlops_package), \"r\") as f:\n",
    "    model_info = json.loads(f.read())\n",
    "model_info\n",
    "\n",
    "# Read the mlops connection info from the provided example \n",
    "with open('/content/{}/conf/mlops.agent.conf.yaml'.format(mlops_package)) as file:\n",
    "    # The FullLoader parameter handles the conversion from YAML\n",
    "    # scalar values to Python the dictionary format\n",
    "    agent_yaml_dict = yaml.load(file, Loader=yaml.FullLoader)\n",
    "\n",
    "MLOPS_URL = agent_yaml_dict['mlopsUrl']\n",
    "API_TOKEN = agent_yaml_dict['apiToken']\n",
    "\n",
    "# Create connected client\n",
    "mlops_connected_client = MLOpsClient(MLOPS_URL, API_TOKEN)\n",
    "\n",
    "# Add training_data to model configuration\n",
    "print(\"Uploading training data - {}. This may take some time...\".format(TRAINING_DATA))\n",
    "dataset_id = mlops_connected_client.upload_dataset(TRAINING_DATA)\n",
    "print(\"Training dataset uploaded. Catalog ID {}.\".format(dataset_id))\n",
    "model_info[\"datasets\"] = {\"trainingDataCatalogId\": dataset_id}\n",
    "\n",
    "# Create the model package\n",
    "print('Create model package')\n",
    "model_pkg_id = mlops_connected_client.create_model_package(model_info)\n",
    "model_pkg = mlops_connected_client.get_model_package(model_pkg_id)\n",
    "model_id = model_pkg[\"modelId\"]\n",
    "\n",
    "# Create Prediction Environment (needed for Challengers)\n",
    "print('Create Prediction Environment')\n",
    "predEnv = {\"name\": \"External Prediction Environment / Notebook\",\n",
    "           \"description\": \"Notebook\",\n",
    "           \"platform\": 'gcp',\n",
    "           \"supportedModelFormats\": ['externalModel']\n",
    "           }\n",
    "prediction_environment_id = mlops_connected_client.create_prediction_environment(predEnv)\n",
    "\n",
    "# Deploy the model package\n",
    "print('Deploy model package')\n",
    "\n",
    "# Give the deployment a name:\n",
    "DEPLOYMENT_NAME=\"Python binary classification remote model \" + str(datetime.datetime.now())\n",
    "\n",
    "deployment_id = mlops_connected_client.deploy_model_package(model_pkg[\"id\"],\n",
    "                                                            DEPLOYMENT_NAME,\n",
    "                                                            prediction_environment_id=prediction_environment_id)\n",
    "\n",
    "# Enable data drift tracking\n",
    "print('Enable feature drift')\n",
    "enable_feature_drift = TRAINING_DATA is not None\n",
    "mlops_connected_client.update_deployment_settings(deployment_id, target_drift=True,\n",
    "                                                  feature_drift=enable_feature_drift)\n",
    "_ = mlops_connected_client.get_deployment_settings(deployment_id)\n",
    "\n",
    "print(\"\\nDone.\")\n",
    "print(\"\\nDEPLOYMENT_ID=%s, MODEL_ID=%s\" % (deployment_id, model_id))\n",
    "\n",
    "DEPLOYMENT_ID = deployment_id\n",
    "MODEL_ID = model_id"
   ]
  },
  {
   "cell_type": "markdown",
   "metadata": {
    "id": "veCNKZWYsOKM"
   },
   "source": [
    "## Run Model Predictions\n",
    "\n",
    "### Call the external model's predict fuction and send prediction data to MLOps\n",
    "\n",
    "You can find Deployment and Model ID under `Deployments` --> `Predictions` --> `Monitoring` Tab."
   ]
  },
  {
   "cell_type": "code",
   "execution_count": null,
   "metadata": {
    "id": "araPw4L9juEu"
   },
   "outputs": [],
   "source": [
    "# variables in case runtime is restarted, replace with your own\n",
    "DEPLOYMENT_ID='62417e32ebe6673cf978b81a'\n",
    "MODEL_ID='62417e304e43c6957ec5dad6'"
   ]
  },
  {
   "cell_type": "code",
   "execution_count": null,
   "metadata": {
    "id": "UNcqv8SVatO-"
   },
   "outputs": [],
   "source": [
    "import sys\n",
    "import time\n",
    "import random\n",
    "import pandas as pd\n",
    " \n",
    "from datarobot.mlops.mlops import MLOps\n",
    "\n",
    "CLASS_NAMES = [\"1\", \"0\"]\n",
    "SPOOL_DIR = \"/content/tmp/ta\"\n",
    "ACTUALS_OUTPUT_FILE = '/content/actuals.csv'"
   ]
  },
  {
   "cell_type": "code",
   "execution_count": null,
   "metadata": {
    "id": "jh02k6-PduzU"
   },
   "outputs": [],
   "source": [
    "mlops = MLOps() \\\n",
    "        .set_deployment_id(DEPLOYMENT_ID) \\\n",
    "        .set_model_id(MODEL_ID) \\\n",
    "        .set_filesystem_spooler(SPOOL_DIR) \\\n",
    "        .init()"
   ]
  },
  {
   "cell_type": "code",
   "execution_count": null,
   "metadata": {
    "colab": {
     "base_uri": "https://localhost:8080/"
    },
    "id": "7PkmE5uEbisD",
    "outputId": "45558518-39cb-48bb-b6c4-2b7e2f9859fd"
   },
   "outputs": [
    {
     "name": "stdout",
     "output_type": "stream",
     "text": [
      "400\n"
     ]
    }
   ],
   "source": [
    "# Get predictions\n",
    "start_time = time.time()\n",
    "predictions = clf.predict_proba(test_data).tolist()\n",
    "num_predictions = len(predictions)\n",
    "print(num_predictions)\n",
    "end_time = time.time()\n",
    "\n",
    "# Get assocation id's for the predictions so we can track them with the actuals\n",
    "def _generate_unique_association_ids(num_samples):\n",
    "    ts = time.time()\n",
    "    return [\"x_{}_{}\".format(ts, i) for i in range(num_samples)]\n",
    "\n",
    "association_ids = _generate_unique_association_ids(len(test_data))"
   ]
  },
  {
   "cell_type": "code",
   "execution_count": null,
   "metadata": {
    "colab": {
     "base_uri": "https://localhost:8080/"
    },
    "id": "P7CwPeKHb6S_",
    "outputId": "f086ef44-1560-45a0-cb8a-721be9dccd54"
   },
   "outputs": [
    {
     "data": {
      "text/plain": [
       "True"
      ]
     },
     "execution_count": 39,
     "metadata": {},
     "output_type": "execute_result"
    }
   ],
   "source": [
    "# MLOPS: report the number of predictions in the request and the execution time.\n",
    "mlops.report_deployment_stats(num_predictions, end_time - start_time)"
   ]
  },
  {
   "cell_type": "code",
   "execution_count": null,
   "metadata": {
    "colab": {
     "base_uri": "https://localhost:8080/"
    },
    "id": "dHce0eHvcOfo",
    "outputId": "2a1afbae-2a9b-4c7b-9047-c872b45a9be8"
   },
   "outputs": [
    {
     "data": {
      "text/plain": [
       "True"
      ]
     },
     "execution_count": 40,
     "metadata": {},
     "output_type": "execute_result"
    }
   ],
   "source": [
    "# MLOPS: report the predictions data: features, predictions, class_names\n",
    "mlops.report_predictions_data(features_df=test_df, \n",
    "                                predictions=predictions, \n",
    "                                class_names=CLASS_NAMES,\n",
    "                                association_ids=association_ids)"
   ]
  },
  {
   "cell_type": "code",
   "execution_count": null,
   "metadata": {
    "id": "RxbZmqrTc3Zg"
   },
   "outputs": [],
   "source": [
    "# MLOPS: release MLOps resources when finished.\n",
    "mlops.shutdown()"
   ]
  },
  {
   "cell_type": "markdown",
   "metadata": {
    "id": "KCIcey1Pm8LI"
   },
   "source": [
    "### Writing and uploading actuals to MLOps"
   ]
  },
  {
   "cell_type": "code",
   "execution_count": null,
   "metadata": {
    "colab": {
     "base_uri": "https://localhost:8080/"
    },
    "id": "_9uUGLgQlBZ6",
    "outputId": "b669e89d-3249-4104-ed4b-a7ae8e1f64fc"
   },
   "outputs": [
    {
     "name": "stdout",
     "output_type": "stream",
     "text": [
      "Writing actuals file: /content/actuals.csv\n"
     ]
    }
   ],
   "source": [
    "from datarobot.mlops.constants import Constants\n",
    "\n",
    "target_column_name = columns[len(columns) - 1]\n",
    "target_values = []\n",
    "orig_labels = test_df[target_column_name].tolist()\n",
    "\n",
    "print(\"Writing actuals file: %s\" % ACTUALS_OUTPUT_FILE)\n",
    "def write_actuals_file(out_filename, test_data_labels, association_ids):\n",
    "    \"\"\"\n",
    "    Generate a CSV file with the association ids and labels, this example\n",
    "    uses a dataset that has labels already.\n",
    "    In a real use case actuals (labels) will show after prediction is done.\n",
    "\n",
    "    :param out_filename:      name of csv file\n",
    "    :param test_data_labels:  actual values (labels)\n",
    "    :param association_ids:   association id list used for predictions\n",
    "    \"\"\"\n",
    "    with open(out_filename, mode=\"w\") as actuals_csv_file:\n",
    "        writer = csv.writer(actuals_csv_file, delimiter=\",\")\n",
    "        writer.writerow(\n",
    "            [\n",
    "                Constants.ACTUALS_ASSOCIATION_ID_KEY,\n",
    "                Constants.ACTUALS_VALUE_KEY,\n",
    "                Constants.ACTUALS_TIMESTAMP_KEY\n",
    "            ]\n",
    "        )\n",
    "        tz = pytz.timezone(\"America/Los_Angeles\")\n",
    "        for (association_id, label) in zip(association_ids, test_data_labels):\n",
    "            actual_timestamp = datetime.datetime.now().replace(tzinfo=tz).isoformat()\n",
    "            writer.writerow([association_id, \"1\" if label else \"0\", actual_timestamp])\n",
    "\n",
    "\n",
    "# Write csv file with labels and association Id, when output file is provided\n",
    "write_actuals_file(ACTUALS_OUTPUT_FILE, orig_labels, association_ids)"
   ]
  },
  {
   "cell_type": "code",
   "execution_count": null,
   "metadata": {
    "colab": {
     "base_uri": "https://localhost:8080/"
    },
    "id": "MWd_6uFemeAt",
    "outputId": "48dc9e67-a56b-49a5-b829-8c70a5d6edc9"
   },
   "outputs": [
    {
     "name": "stdout",
     "output_type": "stream",
     "text": [
      "Connect MLOps client\n",
      "Submit actuals\n",
      "Done.\n"
     ]
    }
   ],
   "source": [
    "from datarobot.mlops.connected.client import MLOpsClient\n",
    "\n",
    "# Read the mlops connection info from the provided example \n",
    "with open('/content/{}/conf/mlops.agent.conf.yaml'.format(mlops_package)) as file:\n",
    "    # The FullLoader parameter handles the conversion from YAML\n",
    "    # scalar values to Python the dictionary format\n",
    "    agent_yaml_dict = yaml.load(file, Loader=yaml.FullLoader)\n",
    "\n",
    "MLOPS_URL = agent_yaml_dict['mlopsUrl']\n",
    "API_TOKEN = agent_yaml_dict['apiToken']\n",
    "\n",
    "\n",
    "def _get_correct_actual_value(deployment_type, value):\n",
    "    if deployment_type == \"Regression\":\n",
    "        return float(value)\n",
    "    return str(value)\n",
    "\n",
    "def _get_correct_flag_value(value_str):\n",
    "    if value_str == \"True\":\n",
    "        return True\n",
    "    return False\n",
    "    \n",
    "def upload_actuals():\n",
    "    print(\"Connect MLOps client\")\n",
    "    mlops_connected_client = MLOpsClient(MLOPS_URL, API_TOKEN)\n",
    "    deployment_type = mlops_connected_client.get_deployment_type(DEPLOYMENT_ID)\n",
    "\n",
    "    actuals = []\n",
    "    with open(ACTUALS_OUTPUT_FILE, mode=\"r\") as actuals_csv_file:\n",
    "        reader = csv.DictReader(actuals_csv_file)\n",
    "        for row in reader:\n",
    "            actual = {}\n",
    "            for key, value in row.items():\n",
    "                if key == Constants.ACTUALS_WAS_ACTED_ON_KEY:\n",
    "                    value = _get_correct_flag_value(value)\n",
    "                if key == Constants.ACTUALS_VALUE_KEY:\n",
    "                    value = _get_correct_actual_value(deployment_type, value)\n",
    "                actual[key] = value\n",
    "            actuals.append(actual)\n",
    "\n",
    "            if len(actuals) == 10000:\n",
    "                mlops_connected_client.submit_actuals(DEPLOYMENT_ID, actuals)\n",
    "                actuals = []\n",
    "\n",
    "    # Submit the actuals\n",
    "    print(\"Submit actuals\")\n",
    "    mlops_connected_client.submit_actuals(DEPLOYMENT_ID, actuals)\n",
    "    \n",
    "    print(\"Done.\")    \n",
    "\n",
    "upload_actuals()"
   ]
  },
  {
   "cell_type": "code",
   "execution_count": null,
   "metadata": {
    "colab": {
     "base_uri": "https://localhost:8080/"
    },
    "id": "10u7_dTdn-p6",
    "outputId": "bfe4dc57-f806-4fba-eae0-9f35861125d6"
   },
   "outputs": [
    {
     "name": "stdout",
     "output_type": "stream",
     "text": [
      "DataRobot MLOps-Agent shutdown done.\n"
     ]
    }
   ],
   "source": [
    "!bash /content/datarobot_mlops_package-8.0.7/bin/stop-agent.sh    #Change version based on the downloaded file"
   ]
  },
  {
   "cell_type": "code",
   "execution_count": null,
   "metadata": {
    "id": "D5bIa1zN5bud"
   },
   "outputs": [],
   "source": [
    "# !rm /content/datarobot_mlops_package-8.0.7/bin/PID.agent   # Use to remove PID if agent wasn't closed cleanly"
   ]
  }
 ],
 "metadata": {
  "colab": {
   "collapsed_sections": [
    "hL0dsJ6perOE"
   ],
   "name": "MQ_Demo_MLOps_Agent_Python_E2E_Main_Script.ipynb",
   "provenance": []
  },
  "kernelspec": {
   "display_name": "Python 3 (ipykernel)",
   "language": "python",
   "name": "python3"
  },
  "language_info": {
   "codemirror_mode": {
    "name": "ipython",
    "version": 3
   },
   "file_extension": ".py",
   "mimetype": "text/x-python",
   "name": "python",
   "nbconvert_exporter": "python",
   "pygments_lexer": "ipython3",
   "version": "3.9.12"
  }
 },
 "nbformat": 4,
 "nbformat_minor": 1
}
